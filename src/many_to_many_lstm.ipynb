{
 "cells": [
  {
   "cell_type": "code",
   "execution_count": 4,
   "metadata": {},
   "outputs": [],
   "source": [
    "from pandas import read_csv\n",
    "#Load data set\n",
    "look_back = 15\n",
    "split = 735-200\n",
    "series_influ_A_df = read_csv('../temp_data/influA_vietnam_last_10_days.csv', index_col=0, engine='python')\n",
    "series_influ_A_df = series_influ_A_df.iloc[200:]\n",
    "train_df = series_influ_A_df.iloc[0:split]\n",
    "test_df = series_influ_A_df.iloc[split-look_back:]\n",
    "# series_influ_A_df = series_influ_A_df[\"case\"]\n",
    "\n",
    "series_influ_A_df = series_influ_A_df.rename(columns= {\"Influenza A - All types of surveillance\": \"case\"})\n",
    "series_influ_A_df = series_influ_A_df[[\"case\", \"temp\", \"tempmax\", \"dew\",\"windspeed\"]]"
   ]
  },
  {
   "cell_type": "code",
   "execution_count": 5,
   "metadata": {},
   "outputs": [],
   "source": [
    "def exponential_moving_average(data, span):\n",
    "    return data.ewm(span=span, adjust=False).mean()"
   ]
  },
  {
   "cell_type": "code",
   "execution_count": 6,
   "metadata": {},
   "outputs": [],
   "source": [
    "series_influ_A_df = series_influ_A_df.dropna()\n",
    "span = 52  # Bạn có thể điều chỉnh độ dài span tùy ý\n",
    "series_influ_A_df['case'] = exponential_moving_average(series_influ_A_df['case'], span)\n",
    "series_influ_A_df = series_influ_A_df.astype('float32')\n",
    "series_influ_A_df = series_influ_A_df.values\n",
    "# normalize the dataset\n",
    "from sklearn.preprocessing import MinMaxScaler, RobustScaler\n",
    "scaler = MinMaxScaler(feature_range=(0, 1))\n",
    "dataset = scaler.fit_transform(series_influ_A_df)\n",
    "# scaler = RobustScaler()\n",
    "# dataset = scaler.fit_transform(series_influ_A_df)\n",
    "# Create Training and Test\n",
    "\n",
    "rest = len(dataset) % look_back\n",
    "dataset = dataset[rest:, :]\n",
    "trainsize = len(dataset) - 2* look_back\n",
    "train = dataset[:trainsize, :]\n",
    "test = dataset[trainsize:, :]\n",
    "\n",
    "import numpy as np\n",
    "# convert an array of values into a dataset matrix\n",
    "def create_dataset(dataset, look_back=1):\n",
    "    dataX, dataY = [], []\n",
    "    for i in range(len(dataset)-2 *look_back - 1):\n",
    "        a = dataset[i:(i+look_back)]\n",
    "        dataX.append(a)\n",
    "        dataY.append(dataset[i + look_back: i+ 2*look_back])\n",
    "    return np.array(dataX), np.array(dataY)"
   ]
  },
  {
   "cell_type": "code",
   "execution_count": 7,
   "metadata": {},
   "outputs": [],
   "source": [
    "trainX, trainY = create_dataset(train, look_back)\n",
    "testX, testY = create_dataset(test, look_back)"
   ]
  }
 ],
 "metadata": {
  "kernelspec": {
   "display_name": "venv",
   "language": "python",
   "name": "python3"
  },
  "language_info": {
   "codemirror_mode": {
    "name": "ipython",
    "version": 3
   },
   "file_extension": ".py",
   "mimetype": "text/x-python",
   "name": "python",
   "nbconvert_exporter": "python",
   "pygments_lexer": "ipython3",
   "version": "3.10.10"
  }
 },
 "nbformat": 4,
 "nbformat_minor": 2
}
