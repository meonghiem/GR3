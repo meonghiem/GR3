{
 "cells": [
  {
   "cell_type": "code",
   "execution_count": 35,
   "metadata": {},
   "outputs": [],
   "source": [
    "from pandas import read_csv\n",
    "\n",
    "#Load data set\n",
    "look_back = 2\n",
    "series_influ_A_df = read_csv('../temp_data/influA_vietnam_last_10_days.csv', engine='python')\n",
    "series_influ_A_df = series_influ_A_df[[\"Day\",\"Influenza A - All types of surveillance\", \"temp\", \"tempmax\", \"dew\",\"windspeed\"]]\n",
    "\n",
    "train_df = series_influ_A_df.iloc[0:550]\n",
    "# test_df = series_influ_A_df.iloc[735-look_back:]"
   ]
  },
  {
   "cell_type": "code",
   "execution_count": 36,
   "metadata": {},
   "outputs": [],
   "source": [
    "import pandas as pd\n",
    "df = train_df.rename(columns= {\"Influenza A - All types of surveillance\": \"case\"})\n",
    "df = df[df[\"case\"] == 0]\n",
    "df['Day'] = pd.to_datetime(df['Day'])\n",
    "df['Month'] = df['Day'].dt.month\n",
    "df['Mon_Year'] = df['Day'].dt.strftime('%b-%Y')\n"
   ]
  },
  {
   "cell_type": "code",
   "execution_count": 37,
   "metadata": {},
   "outputs": [
    {
     "name": "stderr",
     "output_type": "stream",
     "text": [
      "C:\\Users\\nghiemxuan\\AppData\\Local\\Temp\\ipykernel_5192\\457265378.py:2: UserWarning:\n",
      "\n",
      "Could not infer format, so each element will be parsed individually, falling back to `dateutil`. To ensure parsing is consistent and as-expected, please specify a format.\n",
      "\n"
     ]
    },
    {
     "data": {
      "application/vnd.plotly.v1+json": {
       "config": {
        "plotlyServerURL": "https://plot.ly"
       },
       "data": [
        {
         "mode": "lines+markers",
         "name": "Influenza A Cases in month",
         "type": "scatter",
         "x": [
          "Jan-2009",
          "Dec-2009",
          "Feb-2010",
          "Mar-2010",
          "Apr-2010",
          "May-2010",
          "Jan-2011",
          "Jan-2012",
          "Feb-2012",
          "Mar-2012",
          "Apr-2012",
          "Aug-2012",
          "Sep-2012",
          "Oct-2012",
          "Jan-2013",
          "Feb-2013",
          "Aug-2014",
          "Sep-2014",
          "Oct-2014",
          "Feb-2015",
          "Dec-2015",
          "Jan-2016",
          "Feb-2016",
          "Mar-2016",
          "Jan-2017",
          "Feb-2017",
          "Feb-2018",
          "Mar-2018",
          "May-2018",
          "Dec-2018",
          "Jan-2019",
          "Feb-2019",
          "Mar-2019",
          "May-2019",
          "Jun-2019"
         ],
         "y": [
          2,
          1,
          1,
          2,
          3,
          5,
          1,
          1,
          2,
          1,
          1,
          1,
          1,
          2,
          1,
          1,
          2,
          2,
          2,
          1,
          1,
          4,
          4,
          1,
          1,
          1,
          1,
          1,
          1,
          1,
          1,
          1,
          1,
          2,
          1
         ]
        }
       ],
       "layout": {
        "showlegend": true,
        "template": {
         "data": {
          "bar": [
           {
            "error_x": {
             "color": "#2a3f5f"
            },
            "error_y": {
             "color": "#2a3f5f"
            },
            "marker": {
             "line": {
              "color": "#E5ECF6",
              "width": 0.5
             },
             "pattern": {
              "fillmode": "overlay",
              "size": 10,
              "solidity": 0.2
             }
            },
            "type": "bar"
           }
          ],
          "barpolar": [
           {
            "marker": {
             "line": {
              "color": "#E5ECF6",
              "width": 0.5
             },
             "pattern": {
              "fillmode": "overlay",
              "size": 10,
              "solidity": 0.2
             }
            },
            "type": "barpolar"
           }
          ],
          "carpet": [
           {
            "aaxis": {
             "endlinecolor": "#2a3f5f",
             "gridcolor": "white",
             "linecolor": "white",
             "minorgridcolor": "white",
             "startlinecolor": "#2a3f5f"
            },
            "baxis": {
             "endlinecolor": "#2a3f5f",
             "gridcolor": "white",
             "linecolor": "white",
             "minorgridcolor": "white",
             "startlinecolor": "#2a3f5f"
            },
            "type": "carpet"
           }
          ],
          "choropleth": [
           {
            "colorbar": {
             "outlinewidth": 0,
             "ticks": ""
            },
            "type": "choropleth"
           }
          ],
          "contour": [
           {
            "colorbar": {
             "outlinewidth": 0,
             "ticks": ""
            },
            "colorscale": [
             [
              0,
              "#0d0887"
             ],
             [
              0.1111111111111111,
              "#46039f"
             ],
             [
              0.2222222222222222,
              "#7201a8"
             ],
             [
              0.3333333333333333,
              "#9c179e"
             ],
             [
              0.4444444444444444,
              "#bd3786"
             ],
             [
              0.5555555555555556,
              "#d8576b"
             ],
             [
              0.6666666666666666,
              "#ed7953"
             ],
             [
              0.7777777777777778,
              "#fb9f3a"
             ],
             [
              0.8888888888888888,
              "#fdca26"
             ],
             [
              1,
              "#f0f921"
             ]
            ],
            "type": "contour"
           }
          ],
          "contourcarpet": [
           {
            "colorbar": {
             "outlinewidth": 0,
             "ticks": ""
            },
            "type": "contourcarpet"
           }
          ],
          "heatmap": [
           {
            "colorbar": {
             "outlinewidth": 0,
             "ticks": ""
            },
            "colorscale": [
             [
              0,
              "#0d0887"
             ],
             [
              0.1111111111111111,
              "#46039f"
             ],
             [
              0.2222222222222222,
              "#7201a8"
             ],
             [
              0.3333333333333333,
              "#9c179e"
             ],
             [
              0.4444444444444444,
              "#bd3786"
             ],
             [
              0.5555555555555556,
              "#d8576b"
             ],
             [
              0.6666666666666666,
              "#ed7953"
             ],
             [
              0.7777777777777778,
              "#fb9f3a"
             ],
             [
              0.8888888888888888,
              "#fdca26"
             ],
             [
              1,
              "#f0f921"
             ]
            ],
            "type": "heatmap"
           }
          ],
          "heatmapgl": [
           {
            "colorbar": {
             "outlinewidth": 0,
             "ticks": ""
            },
            "colorscale": [
             [
              0,
              "#0d0887"
             ],
             [
              0.1111111111111111,
              "#46039f"
             ],
             [
              0.2222222222222222,
              "#7201a8"
             ],
             [
              0.3333333333333333,
              "#9c179e"
             ],
             [
              0.4444444444444444,
              "#bd3786"
             ],
             [
              0.5555555555555556,
              "#d8576b"
             ],
             [
              0.6666666666666666,
              "#ed7953"
             ],
             [
              0.7777777777777778,
              "#fb9f3a"
             ],
             [
              0.8888888888888888,
              "#fdca26"
             ],
             [
              1,
              "#f0f921"
             ]
            ],
            "type": "heatmapgl"
           }
          ],
          "histogram": [
           {
            "marker": {
             "pattern": {
              "fillmode": "overlay",
              "size": 10,
              "solidity": 0.2
             }
            },
            "type": "histogram"
           }
          ],
          "histogram2d": [
           {
            "colorbar": {
             "outlinewidth": 0,
             "ticks": ""
            },
            "colorscale": [
             [
              0,
              "#0d0887"
             ],
             [
              0.1111111111111111,
              "#46039f"
             ],
             [
              0.2222222222222222,
              "#7201a8"
             ],
             [
              0.3333333333333333,
              "#9c179e"
             ],
             [
              0.4444444444444444,
              "#bd3786"
             ],
             [
              0.5555555555555556,
              "#d8576b"
             ],
             [
              0.6666666666666666,
              "#ed7953"
             ],
             [
              0.7777777777777778,
              "#fb9f3a"
             ],
             [
              0.8888888888888888,
              "#fdca26"
             ],
             [
              1,
              "#f0f921"
             ]
            ],
            "type": "histogram2d"
           }
          ],
          "histogram2dcontour": [
           {
            "colorbar": {
             "outlinewidth": 0,
             "ticks": ""
            },
            "colorscale": [
             [
              0,
              "#0d0887"
             ],
             [
              0.1111111111111111,
              "#46039f"
             ],
             [
              0.2222222222222222,
              "#7201a8"
             ],
             [
              0.3333333333333333,
              "#9c179e"
             ],
             [
              0.4444444444444444,
              "#bd3786"
             ],
             [
              0.5555555555555556,
              "#d8576b"
             ],
             [
              0.6666666666666666,
              "#ed7953"
             ],
             [
              0.7777777777777778,
              "#fb9f3a"
             ],
             [
              0.8888888888888888,
              "#fdca26"
             ],
             [
              1,
              "#f0f921"
             ]
            ],
            "type": "histogram2dcontour"
           }
          ],
          "mesh3d": [
           {
            "colorbar": {
             "outlinewidth": 0,
             "ticks": ""
            },
            "type": "mesh3d"
           }
          ],
          "parcoords": [
           {
            "line": {
             "colorbar": {
              "outlinewidth": 0,
              "ticks": ""
             }
            },
            "type": "parcoords"
           }
          ],
          "pie": [
           {
            "automargin": true,
            "type": "pie"
           }
          ],
          "scatter": [
           {
            "fillpattern": {
             "fillmode": "overlay",
             "size": 10,
             "solidity": 0.2
            },
            "type": "scatter"
           }
          ],
          "scatter3d": [
           {
            "line": {
             "colorbar": {
              "outlinewidth": 0,
              "ticks": ""
             }
            },
            "marker": {
             "colorbar": {
              "outlinewidth": 0,
              "ticks": ""
             }
            },
            "type": "scatter3d"
           }
          ],
          "scattercarpet": [
           {
            "marker": {
             "colorbar": {
              "outlinewidth": 0,
              "ticks": ""
             }
            },
            "type": "scattercarpet"
           }
          ],
          "scattergeo": [
           {
            "marker": {
             "colorbar": {
              "outlinewidth": 0,
              "ticks": ""
             }
            },
            "type": "scattergeo"
           }
          ],
          "scattergl": [
           {
            "marker": {
             "colorbar": {
              "outlinewidth": 0,
              "ticks": ""
             }
            },
            "type": "scattergl"
           }
          ],
          "scattermapbox": [
           {
            "marker": {
             "colorbar": {
              "outlinewidth": 0,
              "ticks": ""
             }
            },
            "type": "scattermapbox"
           }
          ],
          "scatterpolar": [
           {
            "marker": {
             "colorbar": {
              "outlinewidth": 0,
              "ticks": ""
             }
            },
            "type": "scatterpolar"
           }
          ],
          "scatterpolargl": [
           {
            "marker": {
             "colorbar": {
              "outlinewidth": 0,
              "ticks": ""
             }
            },
            "type": "scatterpolargl"
           }
          ],
          "scatterternary": [
           {
            "marker": {
             "colorbar": {
              "outlinewidth": 0,
              "ticks": ""
             }
            },
            "type": "scatterternary"
           }
          ],
          "surface": [
           {
            "colorbar": {
             "outlinewidth": 0,
             "ticks": ""
            },
            "colorscale": [
             [
              0,
              "#0d0887"
             ],
             [
              0.1111111111111111,
              "#46039f"
             ],
             [
              0.2222222222222222,
              "#7201a8"
             ],
             [
              0.3333333333333333,
              "#9c179e"
             ],
             [
              0.4444444444444444,
              "#bd3786"
             ],
             [
              0.5555555555555556,
              "#d8576b"
             ],
             [
              0.6666666666666666,
              "#ed7953"
             ],
             [
              0.7777777777777778,
              "#fb9f3a"
             ],
             [
              0.8888888888888888,
              "#fdca26"
             ],
             [
              1,
              "#f0f921"
             ]
            ],
            "type": "surface"
           }
          ],
          "table": [
           {
            "cells": {
             "fill": {
              "color": "#EBF0F8"
             },
             "line": {
              "color": "white"
             }
            },
            "header": {
             "fill": {
              "color": "#C8D4E3"
             },
             "line": {
              "color": "white"
             }
            },
            "type": "table"
           }
          ]
         },
         "layout": {
          "annotationdefaults": {
           "arrowcolor": "#2a3f5f",
           "arrowhead": 0,
           "arrowwidth": 1
          },
          "autotypenumbers": "strict",
          "coloraxis": {
           "colorbar": {
            "outlinewidth": 0,
            "ticks": ""
           }
          },
          "colorscale": {
           "diverging": [
            [
             0,
             "#8e0152"
            ],
            [
             0.1,
             "#c51b7d"
            ],
            [
             0.2,
             "#de77ae"
            ],
            [
             0.3,
             "#f1b6da"
            ],
            [
             0.4,
             "#fde0ef"
            ],
            [
             0.5,
             "#f7f7f7"
            ],
            [
             0.6,
             "#e6f5d0"
            ],
            [
             0.7,
             "#b8e186"
            ],
            [
             0.8,
             "#7fbc41"
            ],
            [
             0.9,
             "#4d9221"
            ],
            [
             1,
             "#276419"
            ]
           ],
           "sequential": [
            [
             0,
             "#0d0887"
            ],
            [
             0.1111111111111111,
             "#46039f"
            ],
            [
             0.2222222222222222,
             "#7201a8"
            ],
            [
             0.3333333333333333,
             "#9c179e"
            ],
            [
             0.4444444444444444,
             "#bd3786"
            ],
            [
             0.5555555555555556,
             "#d8576b"
            ],
            [
             0.6666666666666666,
             "#ed7953"
            ],
            [
             0.7777777777777778,
             "#fb9f3a"
            ],
            [
             0.8888888888888888,
             "#fdca26"
            ],
            [
             1,
             "#f0f921"
            ]
           ],
           "sequentialminus": [
            [
             0,
             "#0d0887"
            ],
            [
             0.1111111111111111,
             "#46039f"
            ],
            [
             0.2222222222222222,
             "#7201a8"
            ],
            [
             0.3333333333333333,
             "#9c179e"
            ],
            [
             0.4444444444444444,
             "#bd3786"
            ],
            [
             0.5555555555555556,
             "#d8576b"
            ],
            [
             0.6666666666666666,
             "#ed7953"
            ],
            [
             0.7777777777777778,
             "#fb9f3a"
            ],
            [
             0.8888888888888888,
             "#fdca26"
            ],
            [
             1,
             "#f0f921"
            ]
           ]
          },
          "colorway": [
           "#636efa",
           "#EF553B",
           "#00cc96",
           "#ab63fa",
           "#FFA15A",
           "#19d3f3",
           "#FF6692",
           "#B6E880",
           "#FF97FF",
           "#FECB52"
          ],
          "font": {
           "color": "#2a3f5f"
          },
          "geo": {
           "bgcolor": "white",
           "lakecolor": "white",
           "landcolor": "#E5ECF6",
           "showlakes": true,
           "showland": true,
           "subunitcolor": "white"
          },
          "hoverlabel": {
           "align": "left"
          },
          "hovermode": "closest",
          "mapbox": {
           "style": "light"
          },
          "paper_bgcolor": "white",
          "plot_bgcolor": "#E5ECF6",
          "polar": {
           "angularaxis": {
            "gridcolor": "white",
            "linecolor": "white",
            "ticks": ""
           },
           "bgcolor": "#E5ECF6",
           "radialaxis": {
            "gridcolor": "white",
            "linecolor": "white",
            "ticks": ""
           }
          },
          "scene": {
           "xaxis": {
            "backgroundcolor": "#E5ECF6",
            "gridcolor": "white",
            "gridwidth": 2,
            "linecolor": "white",
            "showbackground": true,
            "ticks": "",
            "zerolinecolor": "white"
           },
           "yaxis": {
            "backgroundcolor": "#E5ECF6",
            "gridcolor": "white",
            "gridwidth": 2,
            "linecolor": "white",
            "showbackground": true,
            "ticks": "",
            "zerolinecolor": "white"
           },
           "zaxis": {
            "backgroundcolor": "#E5ECF6",
            "gridcolor": "white",
            "gridwidth": 2,
            "linecolor": "white",
            "showbackground": true,
            "ticks": "",
            "zerolinecolor": "white"
           }
          },
          "shapedefaults": {
           "line": {
            "color": "#2a3f5f"
           }
          },
          "ternary": {
           "aaxis": {
            "gridcolor": "white",
            "linecolor": "white",
            "ticks": ""
           },
           "baxis": {
            "gridcolor": "white",
            "linecolor": "white",
            "ticks": ""
           },
           "bgcolor": "#E5ECF6",
           "caxis": {
            "gridcolor": "white",
            "linecolor": "white",
            "ticks": ""
           }
          },
          "title": {
           "x": 0.05
          },
          "xaxis": {
           "automargin": true,
           "gridcolor": "white",
           "linecolor": "white",
           "ticks": "",
           "title": {
            "standoff": 15
           },
           "zerolinecolor": "white",
           "zerolinewidth": 2
          },
          "yaxis": {
           "automargin": true,
           "gridcolor": "white",
           "linecolor": "white",
           "ticks": "",
           "title": {
            "standoff": 15
           },
           "zerolinecolor": "white",
           "zerolinewidth": 2
          }
         }
        },
        "title": {
         "text": "abc"
        },
        "xaxis": {
         "tickangle": 90,
         "tickformat": "%Y-%m",
         "tickvals": [
          "Jan-2009",
          "Dec-2009",
          "Feb-2010",
          "Mar-2010",
          "Apr-2010",
          "May-2010",
          "Jan-2011",
          "Jan-2012",
          "Feb-2012",
          "Mar-2012",
          "Apr-2012",
          "Aug-2012",
          "Sep-2012",
          "Oct-2012",
          "Jan-2013",
          "Feb-2013",
          "Aug-2014",
          "Sep-2014",
          "Oct-2014",
          "Feb-2015",
          "Dec-2015",
          "Jan-2016",
          "Feb-2016",
          "Mar-2016",
          "Jan-2017",
          "Feb-2017",
          "Feb-2018",
          "Mar-2018",
          "May-2018",
          "Dec-2018",
          "Jan-2019",
          "Feb-2019",
          "Mar-2019",
          "May-2019",
          "Jun-2019"
         ],
         "title": {
          "text": "Month"
         }
        },
        "yaxis": {
         "title": {
          "text": "Number of Cases"
         }
        }
       }
      }
     },
     "metadata": {},
     "output_type": "display_data"
    }
   ],
   "source": [
    "row_counts = df.groupby('Mon_Year').size().reset_index(name='count')\n",
    "row_counts['Mon_Year'] = pd.to_datetime(row_counts['Mon_Year'])\n",
    "row_counts = row_counts.sort_values(by='Mon_Year')\n",
    "row_counts['Mon_Year'] = row_counts['Mon_Year'].dt.strftime('%b-%Y')\n",
    "import plotly.graph_objects as go\n",
    "fig = go.Figure()\n",
    "fig.add_trace(go.Scatter(x=row_counts['Mon_Year'], y=row_counts['count'], mode='lines+markers', name=f'Influenza A Cases in month'))\n",
    "fig.update_layout(\n",
    "    title='abc',\n",
    "    xaxis=dict(\n",
    "        title='Month',\n",
    "        tickvals=row_counts['Mon_Year'],  \n",
    "        tickformat='%Y-%m',\n",
    "        tickangle=90,\n",
    "    ),\n",
    "    yaxis=dict(title='Number of Cases'),\n",
    "    showlegend=True,\n",
    ")\n",
    "\n",
    "# Show plot\n",
    "fig.show()"
   ]
  },
  {
   "cell_type": "code",
   "execution_count": 38,
   "metadata": {},
   "outputs": [
    {
     "data": {
      "text/html": [
       "<div>\n",
       "<style scoped>\n",
       "    .dataframe tbody tr th:only-of-type {\n",
       "        vertical-align: middle;\n",
       "    }\n",
       "\n",
       "    .dataframe tbody tr th {\n",
       "        vertical-align: top;\n",
       "    }\n",
       "\n",
       "    .dataframe thead th {\n",
       "        text-align: right;\n",
       "    }\n",
       "</style>\n",
       "<table border=\"1\" class=\"dataframe\">\n",
       "  <thead>\n",
       "    <tr style=\"text-align: right;\">\n",
       "      <th></th>\n",
       "      <th>Day</th>\n",
       "      <th>case</th>\n",
       "    </tr>\n",
       "  </thead>\n",
       "  <tbody>\n",
       "    <tr>\n",
       "      <th>0</th>\n",
       "      <td>2009-01-19</td>\n",
       "      <td>0.0</td>\n",
       "    </tr>\n",
       "    <tr>\n",
       "      <th>1</th>\n",
       "      <td>2009-01-26</td>\n",
       "      <td>7.0</td>\n",
       "    </tr>\n",
       "    <tr>\n",
       "      <th>2</th>\n",
       "      <td>2009-02-02</td>\n",
       "      <td>4.0</td>\n",
       "    </tr>\n",
       "    <tr>\n",
       "      <th>3</th>\n",
       "      <td>2009-02-09</td>\n",
       "      <td>1.0</td>\n",
       "    </tr>\n",
       "    <tr>\n",
       "      <th>4</th>\n",
       "      <td>2009-02-16</td>\n",
       "      <td>2.0</td>\n",
       "    </tr>\n",
       "  </tbody>\n",
       "</table>\n",
       "</div>"
      ],
      "text/plain": [
       "          Day  case\n",
       "0  2009-01-19   0.0\n",
       "1  2009-01-26   7.0\n",
       "2  2009-02-02   4.0\n",
       "3  2009-02-09   1.0\n",
       "4  2009-02-16   2.0"
      ]
     },
     "execution_count": 38,
     "metadata": {},
     "output_type": "execute_result"
    }
   ],
   "source": [
    "diff_df = train_df.rename(columns= {\"Influenza A - All types of surveillance\": \"case\"})\n",
    "diff_df = diff_df.set_index('Day')\n",
    "diff_df = diff_df[[ 'case']]\n",
    "diff_df = diff_df.diff()\n",
    "diff_df = diff_df.dropna().abs().reset_index()\n",
    "diff_df.head()\n",
    "\n"
   ]
  },
  {
   "cell_type": "code",
   "execution_count": 43,
   "metadata": {},
   "outputs": [
    {
     "name": "stdout",
     "output_type": "stream",
     "text": [
      "3\n"
     ]
    },
    {
     "data": {
      "image/png": "[encoded data removed]",
      "text/plain": [
       "<Figure size 640x480 with 1 Axes>"
      ]
     },
     "metadata": {},
     "output_type": "display_data"
    }
   ],
   "source": [
    "import pandas as pd\n",
    "\n",
    "def moving_average(data, window_size):\n",
    "    return data.rolling(window=window_size).mean()\n",
    "\n",
    "# Đọc dữ liệu từ file CSV\n",
    "# df = pd.read_csv('data.csv', parse_dates=['timestamp'])\n",
    "# df.set_index('timestamp', inplace=True)\n",
    "\n",
    "ma_df = train_df.rename(columns= {\"Influenza A - All types of surveillance\": \"case\"})\n",
    "\n",
    "# Áp dụng Moving Average Filter\n",
    "window_size = 7  # Bạn có thể điều chỉnh kích thước cửa sổ tùy ý\n",
    "ma_df['case_ma'] = moving_average(ma_df['case'], window_size)\n",
    "\n",
    "# Lưu kết quả vào file CSV mới\n",
    "# df.to_csv('data_ma.csv')\n",
    "ma_df = ma_df.dropna()\n",
    "zero_df = ma_df[ma_df['case_ma'] ==0]\n",
    "ma_df['case_ma'].plot()\n",
    "print(len(zero_df))\n"
   ]
  },
  {
   "cell_type": "code",
   "execution_count": 40,
   "metadata": {},
   "outputs": [
    {
     "name": "stdout",
     "output_type": "stream",
     "text": [
      "550\n"
     ]
    },
    {
     "data": {
      "image/png": "[encoded data removed]",
      "text/plain": [
       "<Figure size 640x480 with 1 Axes>"
      ]
     },
     "metadata": {},
     "output_type": "display_data"
    }
   ],
   "source": [
    "def exponential_moving_average(data, span):\n",
    "    return data.ewm(span=span, adjust=False).mean()\n",
    "\n",
    "ema_df = train_df.rename(columns= {\"Influenza A - All types of surveillance\": \"case\"})\n",
    "\n",
    "# Áp dụng Exponential Moving Average\n",
    "span = 8  # Bạn có thể điều chỉnh độ dài span tùy ý\n",
    "ema_df['case_ema'] = exponential_moving_average(ema_df['case'], span)\n",
    "\n",
    "ema_df['case_ema'].plot()\n",
    "print(len(ema_df))\n",
    "ema_df.to_csv('../temp_data/ema.csv', index=0)\n",
    "#survey các hướng tiếp cận, outlier, mùa\n",
    "\n"
   ]
  },
  {
   "cell_type": "code",
   "execution_count": 41,
   "metadata": {},
   "outputs": [
    {
     "data": {
      "text/plain": [
       "<Axes: >"
      ]
     },
     "execution_count": 41,
     "metadata": {},
     "output_type": "execute_result"
    },
    {
     "data": {
      "image/png": "[encoded data removed]",
      "text/plain": [
       "<Figure size 640x480 with 1 Axes>"
      ]
     },
     "metadata": {},
     "output_type": "display_data"
    }
   ],
   "source": [
    "class OneEuroFilter:\n",
    "    def __init__(self, min_cutoff=1.0, beta=0.0, d_cutoff=1.0):\n",
    "        self.min_cutoff = min_cutoff\n",
    "        self.beta = beta\n",
    "        self.d_cutoff = d_cutoff\n",
    "        self.x_prev = None\n",
    "        self.dx_prev = None\n",
    "        self.t_prev = None\n",
    "\n",
    "    def __call__(self, x, t):\n",
    "        if self.x_prev is None:\n",
    "            self.x_prev = x\n",
    "            self.dx_prev = 0.0\n",
    "            self.t_prev = t\n",
    "            return x\n",
    "\n",
    "        dt = t - self.t_prev\n",
    "        dx = (x - self.x_prev) / dt if dt > 0 else 0.0\n",
    "        edx = self.alpha(dt, self.d_cutoff) * dx + (1 - self.alpha(dt, self.d_cutoff)) * self.dx_prev\n",
    "        cutoff = self.min_cutoff + self.beta * abs(edx)\n",
    "        x_hat = self.alpha(dt, cutoff) * x + (1 - self.alpha(dt, cutoff)) * self.x_prev\n",
    "\n",
    "        self.x_prev = x_hat\n",
    "        self.dx_prev = edx\n",
    "        self.t_prev = t\n",
    "\n",
    "        return x_hat\n",
    "\n",
    "    @staticmethod\n",
    "    def alpha(dt, cutoff):\n",
    "        tau = 1.0 / (2 * 3.1416 * cutoff)\n",
    "        return 1.0 / (1.0 + tau / dt)\n",
    "\n",
    "one_eu_df = train_df.rename(columns= {\"Influenza A - All types of surveillance\": \"case\"})\n",
    "\n",
    "# Áp dụng One Euro Filter\n",
    "one_euro_filter = OneEuroFilter(min_cutoff=1.0, beta=0.01, d_cutoff=1.0)\n",
    "one_eu_df['case_euro'] = [one_euro_filter(value, t) for t, value in one_eu_df['case'].items()]\n",
    "one_eu_df['case_euro'].plot()"
   ]
  },
  {
   "cell_type": "code",
   "execution_count": 42,
   "metadata": {},
   "outputs": [
    {
     "name": "stdout",
     "output_type": "stream",
     "text": [
      "0 0.0\n",
      "1 0.0\n",
      "2 7.0\n",
      "3 3.0\n",
      "4 2.0\n",
      "5 4.0\n",
      "6 7.0\n",
      "7 10.0\n",
      "8 11.0\n",
      "9 15.0\n",
      "10 21.0\n",
      "11 23.0\n",
      "12 21.0\n",
      "13 32.0\n",
      "14 21.0\n",
      "15 62.0\n",
      "16 63.0\n",
      "17 75.0\n",
      "18 74.0\n",
      "19 67.0\n",
      "20 48.0\n",
      "21 42.0\n",
      "22 33.0\n",
      "23 23.0\n",
      "24 30.0\n",
      "25 14.0\n",
      "26 13.0\n",
      "27 7.0\n",
      "28 15.0\n",
      "29 21.0\n",
      "30 32.0\n",
      "31 29.0\n",
      "32 11.0\n",
      "33 39.0\n",
      "34 76.0\n",
      "35 82.0\n",
      "36 54.0\n",
      "37 71.0\n",
      "38 38.0\n",
      "39 43.0\n",
      "40 42.0\n",
      "41 34.0\n",
      "42 27.0\n",
      "43 28.0\n",
      "44 24.0\n",
      "45 15.0\n",
      "46 12.0\n",
      "47 10.0\n",
      "48 4.0\n",
      "49 6.0\n",
      "50 0.0\n",
      "51 3.0\n",
      "52 7.0\n",
      "53 3.0\n",
      "54 5.0\n",
      "55 4.0\n",
      "56 2.0\n",
      "57 0.0\n",
      "58 7.0\n",
      "59 3.0\n",
      "60 2.0\n",
      "61 2.0\n",
      "62 0.0\n",
      "63 0.0\n",
      "64 0.0\n",
      "65 1.0\n",
      "66 0.0\n",
      "67 0.0\n",
      "68 0.0\n",
      "69 0.0\n",
      "70 0.0\n",
      "71 0.0\n",
      "72 0.0\n",
      "73 2.0\n",
      "74 3.0\n",
      "75 5.0\n",
      "76 3.0\n",
      "77 8.0\n",
      "78 14.0\n",
      "79 14.0\n",
      "80 26.0\n",
      "81 30.0\n",
      "82 52.0\n",
      "83 53.0\n",
      "84 53.0\n",
      "85 31.0\n",
      "86 25.0\n",
      "87 22.0\n",
      "88 19.0\n",
      "89 12.0\n",
      "90 5.0\n",
      "91 4.0\n",
      "92 5.0\n",
      "93 4.0\n",
      "94 1.0\n",
      "95 1.0\n",
      "96 4.0\n",
      "97 2.0\n",
      "98 5.0\n",
      "99 5.0\n",
      "100 5.0\n",
      "101 10.0\n",
      "102 7.0\n",
      "103 6.0\n",
      "104 25.0\n",
      "105 23.0\n",
      "106 29.0\n",
      "107 0.0\n",
      "108 5.0\n",
      "109 30.0\n",
      "110 42.0\n",
      "111 39.0\n",
      "112 60.0\n",
      "113 50.0\n",
      "114 25.0\n",
      "115 33.0\n",
      "116 10.0\n",
      "117 9.0\n",
      "118 7.0\n",
      "119 22.0\n",
      "120 12.0\n",
      "121 6.0\n",
      "122 16.0\n",
      "123 14.0\n",
      "124 11.0\n",
      "125 15.0\n",
      "126 6.0\n",
      "127 5.0\n",
      "128 4.0\n",
      "129 12.0\n",
      "130 15.0\n",
      "131 26.0\n",
      "132 20.0\n",
      "133 18.0\n",
      "134 28.0\n",
      "135 24.0\n",
      "136 20.0\n",
      "137 31.0\n",
      "138 21.0\n",
      "139 17.0\n",
      "140 24.0\n",
      "141 28.0\n",
      "142 25.0\n",
      "143 20.0\n",
      "144 15.0\n",
      "145 25.0\n",
      "146 12.0\n",
      "147 15.0\n",
      "148 7.0\n",
      "149 7.0\n",
      "150 9.0\n",
      "151 1.0\n",
      "152 3.0\n",
      "153 2.0\n",
      "154 1.0\n",
      "155 3.0\n",
      "156 2.0\n",
      "157 4.0\n",
      "158 0.0\n",
      "159 2.0\n",
      "160 0.0\n",
      "161 0.0\n",
      "162 3.0\n",
      "163 4.0\n",
      "164 3.0\n",
      "165 4.0\n",
      "166 1.0\n",
      "167 0.0\n",
      "168 0.0\n",
      "169 2.0\n",
      "170 4.0\n",
      "171 8.0\n",
      "172 3.0\n",
      "173 9.0\n",
      "174 13.0\n",
      "175 11.0\n",
      "176 19.0\n",
      "177 26.0\n",
      "178 22.0\n",
      "179 24.0\n",
      "180 31.0\n",
      "181 19.0\n",
      "182 16.0\n",
      "183 13.0\n",
      "184 10.0\n",
      "185 6.0\n",
      "186 2.0\n",
      "187 4.0\n",
      "188 3.0\n",
      "189 0.0\n",
      "190 2.0\n",
      "191 0.0\n",
      "192 2.0\n",
      "193 3.0\n",
      "194 3.0\n",
      "195 7.0\n",
      "196 0.0\n",
      "197 2.0\n",
      "198 0.0\n",
      "199 3.0\n",
      "200 2.0\n",
      "201 3.0\n",
      "202 2.0\n",
      "203 4.0\n",
      "204 5.0\n",
      "205 3.0\n",
      "206 5.0\n",
      "207 1.0\n",
      "208 3.0\n",
      "209 0.0\n",
      "210 2.0\n",
      "211 4.0\n",
      "212 4.0\n",
      "213 0.0\n",
      "214 2.0\n",
      "215 6.0\n",
      "216 7.0\n",
      "217 10.0\n",
      "218 9.0\n",
      "219 5.0\n",
      "220 11.0\n",
      "221 15.0\n",
      "222 25.0\n",
      "223 22.0\n",
      "224 20.0\n",
      "225 25.0\n",
      "226 30.0\n",
      "227 29.0\n",
      "228 37.0\n",
      "229 35.0\n",
      "230 40.0\n",
      "231 41.0\n",
      "232 42.0\n",
      "233 42.0\n",
      "234 24.0\n",
      "235 19.0\n",
      "236 16.0\n",
      "237 19.0\n",
      "238 14.0\n",
      "239 16.0\n",
      "240 7.0\n",
      "241 6.0\n",
      "242 1.0\n",
      "243 9.0\n",
      "244 8.0\n",
      "245 9.0\n",
      "246 6.0\n",
      "247 6.0\n",
      "248 10.0\n",
      "249 7.0\n",
      "250 7.0\n",
      "251 8.0\n",
      "252 16.0\n",
      "253 6.0\n",
      "254 10.0\n",
      "255 5.0\n",
      "256 8.0\n",
      "257 3.0\n",
      "258 8.0\n",
      "259 10.0\n",
      "260 9.0\n",
      "261 10.0\n",
      "262 4.0\n",
      "263 1.0\n",
      "264 1.0\n",
      "265 2.0\n",
      "266 5.0\n",
      "267 12.0\n",
      "268 11.0\n",
      "269 18.0\n",
      "270 6.0\n",
      "271 10.0\n",
      "272 15.0\n",
      "273 6.0\n",
      "274 3.0\n",
      "275 11.0\n",
      "276 8.0\n",
      "277 13.0\n",
      "278 16.0\n",
      "279 18.0\n",
      "280 15.0\n",
      "281 28.0\n",
      "282 20.0\n",
      "283 18.0\n",
      "284 6.0\n",
      "285 3.0\n",
      "286 3.0\n",
      "287 1.0\n",
      "288 3.0\n",
      "289 2.0\n",
      "290 0.0\n",
      "291 3.0\n",
      "292 1.0\n",
      "293 0.0\n",
      "294 0.0\n",
      "295 1.0\n",
      "296 4.0\n",
      "297 0.0\n",
      "298 2.0\n",
      "299 2.0\n",
      "300 0.0\n",
      "301 0.0\n",
      "302 1.0\n",
      "303 2.0\n",
      "304 1.0\n",
      "305 2.0\n",
      "306 1.0\n",
      "307 5.0\n",
      "308 4.0\n",
      "309 1.0\n",
      "310 2.0\n",
      "311 2.0\n",
      "312 1.0\n",
      "313 2.0\n",
      "314 7.0\n",
      "315 2.0\n",
      "316 3.0\n",
      "317 4.0\n",
      "318 1.0\n",
      "319 0.0\n",
      "320 2.0\n",
      "321 3.0\n",
      "322 20.0\n",
      "323 26.0\n",
      "324 11.0\n",
      "325 9.0\n",
      "326 15.0\n",
      "327 10.0\n",
      "328 12.0\n",
      "329 3.0\n",
      "330 13.0\n",
      "331 13.0\n",
      "332 8.0\n",
      "333 9.0\n",
      "334 12.0\n",
      "335 13.0\n",
      "336 21.0\n",
      "337 12.0\n",
      "338 17.0\n",
      "339 25.0\n",
      "340 13.0\n",
      "341 18.0\n",
      "342 18.0\n",
      "343 22.0\n",
      "344 19.0\n",
      "345 26.0\n",
      "346 10.0\n",
      "347 14.0\n",
      "348 13.0\n",
      "349 13.0\n",
      "350 11.0\n",
      "351 10.0\n",
      "352 18.0\n",
      "353 17.0\n",
      "354 9.0\n",
      "355 17.0\n",
      "356 8.0\n",
      "357 10.0\n",
      "358 10.0\n",
      "359 13.0\n",
      "360 5.0\n",
      "361 4.0\n",
      "362 0.0\n",
      "363 2.0\n",
      "364 0.0\n",
      "365 0.0\n",
      "366 0.0\n",
      "367 0.0\n",
      "368 0.0\n",
      "369 0.0\n",
      "370 0.0\n",
      "371 0.0\n",
      "372 2.0\n",
      "373 5.0\n",
      "374 5.0\n",
      "375 0.0\n",
      "376 4.0\n",
      "377 2.0\n",
      "378 6.0\n",
      "379 3.0\n",
      "380 5.0\n",
      "381 3.0\n",
      "382 8.0\n",
      "383 16.0\n",
      "384 12.0\n",
      "385 15.0\n",
      "386 10.0\n",
      "387 15.0\n",
      "388 11.0\n",
      "389 6.0\n",
      "390 12.0\n",
      "391 14.0\n",
      "392 4.0\n",
      "393 13.0\n",
      "394 11.0\n",
      "395 15.0\n",
      "396 7.0\n",
      "397 7.0\n",
      "398 3.0\n",
      "399 1.0\n",
      "400 3.0\n",
      "401 13.0\n",
      "402 5.0\n",
      "403 4.0\n",
      "404 3.0\n",
      "405 7.0\n",
      "406 3.0\n",
      "407 5.0\n",
      "408 5.0\n",
      "409 4.0\n",
      "410 14.0\n",
      "411 5.0\n",
      "412 3.0\n",
      "413 5.0\n",
      "414 4.0\n",
      "415 6.0\n",
      "416 7.0\n",
      "417 4.0\n",
      "418 1.0\n",
      "419 1.0\n",
      "420 0.0\n",
      "421 0.0\n",
      "422 3.0\n",
      "423 3.0\n",
      "424 2.0\n",
      "425 1.0\n",
      "426 1.0\n",
      "427 2.0\n",
      "428 7.0\n",
      "429 3.0\n",
      "430 6.0\n",
      "431 11.0\n",
      "432 6.0\n",
      "433 12.0\n",
      "434 9.0\n",
      "435 11.0\n",
      "436 6.0\n",
      "437 7.0\n",
      "438 14.0\n",
      "439 11.0\n",
      "440 7.0\n",
      "441 12.0\n",
      "442 14.0\n",
      "443 10.0\n",
      "444 11.0\n",
      "445 21.0\n",
      "446 27.0\n",
      "447 20.0\n",
      "448 14.0\n",
      "449 24.0\n",
      "450 20.0\n",
      "451 21.0\n",
      "452 11.0\n",
      "453 26.0\n",
      "454 15.0\n",
      "455 18.0\n",
      "456 15.0\n",
      "457 3.0\n",
      "458 15.0\n",
      "459 17.0\n",
      "460 5.0\n",
      "461 10.0\n",
      "462 4.0\n",
      "463 6.0\n",
      "464 3.0\n",
      "465 5.0\n",
      "466 2.0\n",
      "467 1.0\n",
      "468 1.0\n",
      "469 4.0\n",
      "470 2.0\n",
      "471 1.0\n",
      "472 2.0\n",
      "473 3.0\n",
      "474 0.0\n",
      "475 2.0\n",
      "476 2.0\n",
      "477 6.0\n",
      "478 5.0\n",
      "479 4.0\n",
      "480 0.0\n",
      "481 2.0\n",
      "482 2.0\n",
      "483 4.0\n",
      "484 3.0\n",
      "485 1.0\n",
      "486 3.0\n",
      "487 0.0\n",
      "488 1.0\n",
      "489 18.0\n",
      "490 6.0\n",
      "491 9.0\n",
      "492 6.0\n",
      "493 4.0\n",
      "494 8.0\n",
      "495 2.0\n",
      "496 7.0\n",
      "497 2.0\n",
      "498 5.0\n",
      "499 8.0\n",
      "500 1.0\n",
      "501 4.0\n",
      "502 3.0\n",
      "503 2.0\n",
      "504 4.0\n",
      "505 8.0\n",
      "506 10.0\n",
      "507 13.0\n",
      "508 10.0\n",
      "509 10.0\n",
      "510 10.0\n",
      "511 17.0\n",
      "512 13.0\n",
      "513 9.0\n",
      "514 11.0\n",
      "515 10.0\n",
      "516 5.0\n",
      "517 2.0\n",
      "518 3.0\n",
      "519 2.0\n",
      "520 0.0\n",
      "521 1.0\n",
      "522 1.0\n",
      "523 1.0\n",
      "524 0.0\n",
      "525 0.0\n",
      "526 1.0\n",
      "527 2.0\n",
      "528 2.0\n",
      "529 1.0\n",
      "530 0.0\n",
      "531 3.0\n",
      "532 5.0\n",
      "533 3.0\n",
      "534 5.0\n",
      "535 3.0\n",
      "536 4.0\n",
      "537 1.0\n",
      "538 0.0\n",
      "539 1.0\n",
      "540 3.0\n",
      "541 0.0\n",
      "542 0.0\n",
      "543 2.0\n",
      "544 1.0\n",
      "545 1.0\n",
      "546 3.0\n",
      "547 5.0\n",
      "548 5.0\n",
      "549 7.0\n"
     ]
    }
   ],
   "source": [
    "for t, value in one_eu_df['case'].items():\n",
    "    print(t, value)"
   ]
  }
 ],
 "metadata": {
  "kernelspec": {
   "display_name": "venv",
   "language": "python",
   "name": "python3"
  },
  "language_info": {
   "codemirror_mode": {
    "name": "ipython",
    "version": 3
   },
   "file_extension": ".py",
   "mimetype": "text/x-python",
   "name": "python",
   "nbconvert_exporter": "python",
   "pygments_lexer": "ipython3",
   "version": "3.10.10"
  }
 },
 "nbformat": 4,
 "nbformat_minor": 2
}
