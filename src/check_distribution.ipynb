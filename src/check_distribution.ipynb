{
 "cells": [
  {
   "cell_type": "code",
   "execution_count": 1,
   "metadata": {},
   "outputs": [],
   "source": [
    "from scipy.stats import shapiro\n",
    "from pandas import read_csv\n",
    "#Load data set\n",
    "look_back = 2\n",
    "series_influ_A_df = read_csv('../temp_data/influA_vietnam_last_10_days.csv', index_col=0, engine='python')\n",
    "series_influ_A_df = series_influ_A_df[[\"Influenza A - All types of surveillance\", \"temp\", \"tempmax\", \"dew\",\"windspeed\"]]\n",
    "train_df = series_influ_A_df.iloc[0:780]\n",
    "test_df = series_influ_A_df.iloc[780-look_back:]\n",
    "# series_influ_A_df = series_influ_A_df[\"Influenza A - All types of surveillance\"]\n",
    "series_influ_A_df = series_influ_A_df.dropna()"
   ]
  },
  {
   "cell_type": "code",
   "execution_count": 2,
   "metadata": {},
   "outputs": [
    {
     "name": "stdout",
     "output_type": "stream",
     "text": [
      "Reject H0: normality => timeseries is not normality\n",
      "Reject H0: normality => timeseries is not normality\n",
      "Reject H0: normality => timeseries is not normality\n",
      "Reject H0: normality => timeseries is not normality\n",
      "Reject H0: normality => timeseries is not normality\n"
     ]
    }
   ],
   "source": [
    "from utils import adf_test, check_normality_eng, forecast_accuracy, check_acorr_ljungbox\n",
    "for name in [\"Influenza A - All types of surveillance\", \"temp\", \"tempmax\", \"dew\",\"windspeed\"]:\n",
    "    check_normality_eng(train_df[name])"
   ]
  }
 ],
 "metadata": {
  "kernelspec": {
   "display_name": "venv",
   "language": "python",
   "name": "python3"
  },
  "language_info": {
   "codemirror_mode": {
    "name": "ipython",
    "version": 3
   },
   "file_extension": ".py",
   "mimetype": "text/x-python",
   "name": "python",
   "nbconvert_exporter": "python",
   "pygments_lexer": "ipython3",
   "version": "3.10.10"
  }
 },
 "nbformat": 4,
 "nbformat_minor": 2
}
