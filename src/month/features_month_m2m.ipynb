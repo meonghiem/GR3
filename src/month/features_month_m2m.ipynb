{
 "cells": [
  {
   "cell_type": "code",
   "execution_count": 621,
   "metadata": {},
   "outputs": [],
   "source": [
    "from pandas import read_csv\n",
    "\n",
    "def read_data(file_path, num_features = 1):\n",
    "    series_influ_A_df = read_csv(file_path, engine='python')\n",
    "    series_influ_A_df = series_influ_A_df.rename(columns= {\"Influenza A - All types of surveillance\": \"case\"})\n",
    "\n",
    "    # because since 2011-03-01 It was announced that the H1N12009 flu had been controlled and treated as regular seasonal flu and\n",
    "    # since 2020-02-01, it's time for covid \n",
    "    \n",
    "    series_influ_A_df = series_influ_A_df.loc [(series_influ_A_df['Month'] >='2011-04-01') & (series_influ_A_df['Month'] <='2020-02-01')]\n",
    "    return series_influ_A_df.dropna()[[\"case\", \"temp\"]]\n",
    "\n",
    "file_path = '../../temp_data/influA_vietnam_temp_month.csv'\n",
    "#Load data set\n",
    "df = read_data(file_path)"
   ]
  },
  {
   "cell_type": "code",
   "execution_count": 622,
   "metadata": {},
   "outputs": [],
   "source": [
    "import numpy as np\n",
    "from sklearn.metrics import r2_score\n",
    "\n",
    "# def create_dataset(dataset, look_back=2, num_predict=1):\n",
    "#     dataX, dataY = [], []\n",
    "#     for i in range(0, len(dataset)-2 *look_back+1, look_back - num_predict):\n",
    "#         a = dataset[i:(i+look_back)]\n",
    "#         dataX.append(a)\n",
    "#         dataY.append(dataset[i + look_back - num_predict : i+ 2*look_back-num_predict])\n",
    "#     return np.array(dataX), np.array(dataY)\n",
    "\n",
    "def create_dataset(dataset, look_back=1, num_predict = 1):\n",
    "    dataX, dataY = [], []\n",
    "    for i in range(0, len(dataset)-look_back, num_predict):\n",
    "        a = dataset[i:(i+look_back)]\n",
    "        dataX.append(a)\n",
    "        dataY.append(dataset[i + look_back: i+ look_back +num_predict])\n",
    "    return np.array(dataX), np.array(dataY)\n",
    "\n",
    "def forecast(input, model):\n",
    "    input = input.reshape(1, input.shape[0], input.shape[1])\n",
    "    predicted = model.predict(input, verbose=0)\n",
    "    return predicted[0]\n",
    "\n",
    "def make_forecasts(test, model):\n",
    "    forecasts = []\n",
    "    inputStart = test[0]\n",
    "    inputX = inputStart.reshape(1, inputStart.shape[0], inputStart.shape[1])\n",
    "    for i in range(len(test)):\n",
    "        predicted = forecast(inputX[i], model)\n",
    "        print(predicted.shape)\n",
    "        forecasts.append(predicted)\n",
    "        inputXContinue = np.vstack((inputX[-1][predicted.shape[0]:], predicted))\n",
    "        inputX = np.append(inputX, [inputXContinue], axis=0)\n",
    "    \n",
    "    return np.array(forecasts)\n",
    "def evaluate_forecasts(test, forecasts):\n",
    "    from sklearn.metrics import mean_squared_error\n",
    "    testScore = np.sqrt(mean_squared_error(test, forecasts))\n",
    "    print('Test Score: %.2f RMSE' % (testScore))\n",
    "\n",
    "def plot_r2(x,y, file_path=None):\n",
    "    import numpy as np\n",
    "    import matplotlib.pyplot as plt\n",
    "    from scipy import stats\n",
    "\n",
    "    # Generate some sample data\n",
    "    # x = y_inverse.flatten()\n",
    "    # y = y_hat_inverse.flatten()\n",
    "\n",
    "    # Compute the linear regression line\n",
    "    slope, intercept, r_value, p_value, std_err = stats.linregress(x, y)\n",
    "\n",
    "    # Create the R-squared line\n",
    "    r2_line = slope * x + intercept\n",
    "    r2 = r2_score(x, y)\n",
    "    r2_pearson = r_value**2\n",
    "    squared_error = np.square(x-y)\n",
    "\n",
    "    # Create the scatter plot\n",
    "    plt.figure(figsize=(8, 6))\n",
    "    plt.scatter(x, y, label='Data Points')\n",
    "    plt.plot(x, squared_error, color='red', marker=\"o\", label=f'squared Error (R²={r2:.2f})')\n",
    "\n",
    "    # Add labels and title\n",
    "    plt.xlabel('actual number of infection')\n",
    "    plt.ylabel('forecast number of infection')\n",
    "    plt.title('Scatter Plot with R-squared Line')\n",
    "    plt.legend()\n",
    "    plt.grid()\n",
    "    # plt.savefig(file_path)\n",
    "    # plt.close()\n",
    "    plt.show()\n",
    "\n",
    "def plot(testY, forecasts):\n",
    "    import matplotlib.pyplot as plt\n",
    "    forecastsPlot = np.empty([forecasts.shape[0]])\n",
    "    forecastsPlot[:] = np.nan\n",
    "    forecastsPlot[:] = forecasts[:,0].reshape(-1)\n",
    "    testPlot = np.empty([testY.shape[0]])\n",
    "    testPlot[:] = np.nan\n",
    "    testPlot[:] = testY[:,0].reshape(-1)\n",
    "    plt.plot(testPlot, \"-y\", label=\"actual\", marker= '.')\n",
    "    plt.plot(forecastsPlot, color = 'green', label=\"forecast\", marker='x')\n",
    "    plt.ylabel(\"Number of infections\")\n",
    "    plt.legend([\"actual\", \"forecast\"])\n",
    "    plt.show()\n",
    "    \n",
    "def plot_month_per_year(df, key):\n",
    "    import plotly.graph_objects as go\n",
    "    fig = go.Figure()\n",
    "    fig.add_trace(go.Scatter(x=df['Month'], y=df[key], mode='lines+markers', name=f'Influenza A Cases in month'))\n",
    "    fig.update_layout(\n",
    "        title='Influenza A Cases Over Time',\n",
    "        xaxis=dict(\n",
    "            title='Month',\n",
    "            tickvals=df['Month'],  \n",
    "            tickformat='%Y-%m',\n",
    "            tickangle=90,\n",
    "        ),\n",
    "        yaxis=dict(title='Number of Cases'),\n",
    "        showlegend=True,\n",
    "    )\n",
    " \n",
    "    # Show plot\n",
    "    fig.show()\n",
    "def inverse_transform(data, scaler):\n",
    "    flattened_data = data.flatten()\n",
    "    inverse_flattened_data = scaler.inverse_transform(flattened_data.reshape(-1,1))\n",
    "    return inverse_flattened_data.reshape(data.shape)"
   ]
  },
  {
   "cell_type": "code",
   "execution_count": 623,
   "metadata": {},
   "outputs": [
    {
     "name": "stdout",
     "output_type": "stream",
     "text": [
      "number of outliers: 4\n",
      "max outlier value: 158.0\n",
      "min outlier value: 120.0\n"
     ]
    }
   ],
   "source": [
    "# Preprocessing\n",
    "def find_outliers_IQR(df):\n",
    "\n",
    "    q1=df.quantile(0.25)\n",
    "\n",
    "    q3=df.quantile(0.75)\n",
    "\n",
    "    IQR=q3-q1\n",
    "\n",
    "    outliers = df[((df<(q1-1.5*IQR)) | (df>(q3+1.5*IQR)))]\n",
    "\n",
    "    return outliers\n",
    "\n",
    "outliers = find_outliers_IQR(df['case'])\n",
    "\n",
    "print('number of outliers: '+ str(len(outliers)))\n",
    "\n",
    "print('max outlier value: '+ str(outliers.max()))\n",
    "\n",
    "print('min outlier value: '+ str(outliers.min()))"
   ]
  },
  {
   "cell_type": "code",
   "execution_count": 624,
   "metadata": {},
   "outputs": [],
   "source": [
    "def impute_outliers_IQR(df):\n",
    "\n",
    "    q1=df.quantile(0.25)\n",
    "\n",
    "    q3=df.quantile(0.75)\n",
    "\n",
    "    IQR=q3-q1\n",
    "\n",
    "    upper = df[~(df>(q3+1.5*IQR))].max()\n",
    "\n",
    "    lower = df[~(df<(q1-1.5*IQR))].min()\n",
    "\n",
    "    df = np.where(\n",
    "        df > upper,\n",
    "        np.nan,\n",
    "        np.where(df < lower,np.nan,df)\n",
    "        )\n",
    "    return df\n",
    "impute_df = df.copy()\n",
    "impute_df['case'] = impute_outliers_IQR(df['case'])\n",
    "# plot_month_per_year(impute_df, 'case')"
   ]
  },
  {
   "cell_type": "code",
   "execution_count": 625,
   "metadata": {},
   "outputs": [],
   "source": [
    "linear_df = impute_df.copy()\n",
    "linear_df['case'] = linear_df['case'].interpolate(method='linear')\n",
    "# plot_month_per_year(linear_df, 'case')"
   ]
  },
  {
   "cell_type": "code",
   "execution_count": 626,
   "metadata": {},
   "outputs": [],
   "source": [
    "spline_order_df = impute_df.copy()\n",
    "spline_order_df['case'] = spline_order_df['case'].interpolate(method='spline', order=3)\n",
    "# plot_month_per_year(spline_order_df, 'case')"
   ]
  },
  {
   "cell_type": "code",
   "execution_count": 627,
   "metadata": {},
   "outputs": [],
   "source": [
    "from sklearn.preprocessing import MinMaxScaler, RobustScaler, StandardScaler\n",
    "def moving_average(data, window_size):\n",
    "    return data.rolling(window=window_size).mean()\n",
    "\n",
    "def exponential_moving_average(data, span):\n",
    "    return data.ewm(span=span, adjust=False).mean()\n",
    "\n",
    "def prepare_data(df, is_ma=False, scaler =None):\n",
    "    import pandas as pd\n",
    "    df_ = pd.DataFrame()\n",
    "    df_ = df.copy()\n",
    "    if is_ma:\n",
    "        # Apply Moving Average Filter\n",
    "        window_size = 2\n",
    "        \n",
    "        df_['case'] = exponential_moving_average(df_['case'], window_size)\n",
    "        df_ = df_.dropna()\n",
    "    dataset = df_.values\n",
    "    if scaler:\n",
    "        flattened_dataset = dataset.flatten()\n",
    "        dataset_trans = scaler.fit_transform(flattened_dataset.reshape(-1,1))\n",
    "        dataset = dataset_trans.reshape(dataset.shape)\n",
    "    return  dataset\n",
    "\n",
    "scaler = MinMaxScaler()\n",
    "dataset = prepare_data(df = linear_df, scaler=scaler, is_ma=True)"
   ]
  },
  {
   "cell_type": "code",
   "execution_count": 628,
   "metadata": {},
   "outputs": [],
   "source": [
    "\n",
    "#process data\n",
    "num_predict = 8\n",
    "look_back = 8\n",
    "test_size = num_predict\n",
    "length = len(dataset)\n",
    "dataset_length = length - (length -look_back) % num_predict\n",
    "rest = length - dataset_length\n",
    "dataset = dataset[rest:]\n",
    "train = dataset[: -test_size,:]\n",
    "test = dataset[-test_size - look_back:,:]\n",
    "\n",
    "trainX, trainY = create_dataset(train, look_back, num_predict)\n",
    "testX, testY = create_dataset(test, look_back, num_predict)"
   ]
  },
  {
   "cell_type": "code",
   "execution_count": 629,
   "metadata": {},
   "outputs": [],
   "source": [
    "# i = 86\n",
    "# print(trainX[i], trainY[i])\n",
    "# len(trainX)\n",
    "# j=0\n",
    "# print(testX[j], testY[j])\n",
    "import tensorflow as tf\n",
    "from keras.losses import mean_squared_error, huber\n",
    "def custom_loss(y_true, y_pred):\n",
    "    return tf.sqrt(mean_squared_error(y_true, y_pred)/2)\n",
    "\n",
    "# def custom_loss(y_true, y_pred):\n",
    "#     \"\"\"\n",
    "#     Custom loss function that penalizes high losses.\n",
    "#     \"\"\"\n",
    "#     # Calculate the standard loss\n",
    "#     standard_loss = mean_squared_error(y_true ,y_pred)\n",
    "\n",
    "#     # Apply a penalty function to the loss\n",
    "#     penalty_factor = 3.0  # Adjust this value to control the penalty strength\n",
    "#     penalty = tf.maximum(standard_loss - 0.05, 0.0) * penalty_factor\n",
    "\n",
    "#     # Combine the standard loss and the penalty\n",
    "#     total_loss = tf.sqrt(standard_loss) + penalty\n",
    "\n",
    "#     return total_loss\n",
    "def trend_loss(y_true, y_pred):\n",
    "    \"\"\"\n",
    "    Custom loss function that focuses on capturing the trend of the time series.\n",
    "    \"\"\"\n",
    "    true_trend = tf.math.subtract(y_true[:, 1:], y_true[:, :-1])\n",
    "    pred_trend = tf.math.subtract(y_pred[:, 1:], y_pred[:, :-1])\n",
    "\n",
    "    # Calculate the mean squared error of the trends\n",
    "    trend_mse = tf.sqrt(mean_squared_error(true_trend, pred_trend))\n",
    "\n",
    "    return trend_mse\n",
    "\n",
    "def custom_loss_hubber_loss(y_true, y_pred):\n",
    "    print(y_true.shape)\n",
    "    hubber_loss = huber(y_true, y_pred, 0.1)\n",
    "    trend_weight = 0\n",
    "    trend_loss_value = trend_loss(y_true, y_pred)\n",
    "    return (1 - trend_weight) *hubber_loss + trend_weight * trend_loss_value\n"
   ]
  },
  {
   "cell_type": "code",
   "execution_count": 630,
   "metadata": {},
   "outputs": [],
   "source": [
    "from keras.models import Sequential\n",
    "from keras.layers import Dense\n",
    "from keras.layers import SimpleRNN, LSTM, TimeDistributed, Input, Dropout, GRU,concatenate, Bidirectional\n",
    "from sklearn.model_selection import GridSearchCV\n",
    "from keras.saving import register_keras_serializable\n",
    "from sklearn.metrics import r2_score\n",
    "\n",
    "\n",
    "# hybrid model\n",
    "\n",
    "# def build_model(input_shape, dropout=None, dense_units = [], unit=64, optimizer='adam'):\n",
    "#     input = Input(shape=input_shape)\n",
    "#     # LSTM Model\n",
    "#     lstm_model = Sequential([\n",
    "#         LSTM(unit, activation='relu'),\n",
    "#     ])\n",
    "\n",
    "#     # GRU Model\n",
    "#     gru_model = Sequential([\n",
    "#         # Input(input_shape=input_shape),\n",
    "#         GRU(unit, activation='relu'),\n",
    "#     ])\n",
    "\n",
    "#     gru_model1 = Sequential([\n",
    "#         # Input(input_shape=input_shape),\n",
    "#         GRU(unit, activation='relu'),\n",
    "#     ])\n",
    "\n",
    "#     # GRU Model\n",
    "#     rnn_model = Sequential([\n",
    "#         # Input(input_shape=input_shape),\n",
    "#         SimpleRNN(unit, activation='relu'),\n",
    "#     ])\n",
    "\n",
    "#     gru_output = gru_model(input)\n",
    "#     gru_output1 = gru_model1(input)\n",
    "#     # lstm_output = lstm_model(input)\n",
    "#     rnn_output = rnn_model(input)\n",
    "#     # gru_output1 = gru_model1(input)\n",
    "\n",
    "#     combined_output = concatenate([ rnn_output, gru_output, gru_output1])\n",
    "\n",
    "#     dense_layers = Sequential([\n",
    "#     Dense(units=input_shape[1], activation='sigmoid' )\n",
    "#     ])\n",
    "\n",
    "#     final_output = dense_layers(combined_output)\n",
    "#     model = tf.keras.Model(inputs=input, outputs=final_output)\n",
    "#     model.compile(optimizer=optimizer, loss=tf.keras.losses.Huber(delta=0.1), metrics=[tf.keras.metrics.RootMeanSquaredError()])\n",
    "#     return model\n",
    "\n",
    "#loss=tf.keras.losses.Huber(delta=0.1)\n",
    "\n",
    "# def build_model(input_shape, dropout=None, unit=64, optimizer='adam'):\n",
    "#     model = Sequential()\n",
    "#     model.add(Input(shape=input_shape))\n",
    "#     # model.add(GRU(units=unit, activation='relu', return_sequences=True))\n",
    "#     model.add(SimpleRNN(units=unit, activation='relu'))\n",
    "#     # model.add(LSTM(units=unit, activation='relu'))\n",
    "#     model.add(Dense(units=input_shape[1], activation='sigmoid' ))\n",
    "#     model.compile(optimizer=optimizer, loss=tf.keras.losses.Huber(delta=0.15), metrics=[tf.keras.metrics.RootMeanSquaredError()])\n",
    "#     return model\n",
    "\n",
    "def build_model(input_shape, dropout=None, unit=64, optimizer='adam'):\n",
    "    input = Input(shape=input_shape)\n",
    "\n",
    "    # GRU Model\n",
    "    rnn_model = Sequential([\n",
    "        # Input(input_shape=input_shape),\n",
    "        LSTM(unit, activation='relu', return_sequences=True),\n",
    "    ])\n",
    "\n",
    "    rnn_output = rnn_model(input)\n",
    "\n",
    "    dense_layers = Sequential([\n",
    "    TimeDistributed(Dense(units=input_shape[1], activation='sigmoid' ))\n",
    "    ])\n",
    "\n",
    "    output = dense_layers(rnn_output[:,-num_predict:])\n",
    "    model = tf.keras.Model(inputs=input, outputs=output)\n",
    "    model.compile(optimizer=optimizer, loss=tf.keras.losses.Huber(delta=0.15), metrics=[tf.keras.metrics.RootMeanSquaredError()])\n",
    "    return model\n",
    "\n"
   ]
  },
  {
   "cell_type": "code",
   "execution_count": 631,
   "metadata": {},
   "outputs": [
    {
     "name": "stdout",
     "output_type": "stream",
     "text": [
      "\n",
      "Epoch 1: loss improved from inf to 0.03034, saving model to ../model\\test.keras\n",
      "\n",
      "Epoch 2: loss improved from 0.03034 to 0.02914, saving model to ../model\\test.keras\n",
      "\n",
      "Epoch 3: loss improved from 0.02914 to 0.02768, saving model to ../model\\test.keras\n",
      "\n",
      "Epoch 4: loss improved from 0.02768 to 0.02581, saving model to ../model\\test.keras\n",
      "\n",
      "Epoch 5: loss improved from 0.02581 to 0.02310, saving model to ../model\\test.keras\n",
      "\n",
      "Epoch 6: loss improved from 0.02310 to 0.01961, saving model to ../model\\test.keras\n",
      "\n",
      "Epoch 7: loss improved from 0.01961 to 0.01713, saving model to ../model\\test.keras\n",
      "\n",
      "Epoch 8: loss improved from 0.01713 to 0.01676, saving model to ../model\\test.keras\n",
      "\n",
      "Epoch 9: loss improved from 0.01676 to 0.01618, saving model to ../model\\test.keras\n",
      "\n",
      "Epoch 10: loss improved from 0.01618 to 0.01577, saving model to ../model\\test.keras\n",
      "\n",
      "Epoch 11: loss improved from 0.01577 to 0.01543, saving model to ../model\\test.keras\n",
      "\n",
      "Epoch 12: loss improved from 0.01543 to 0.01515, saving model to ../model\\test.keras\n",
      "\n",
      "Epoch 13: loss improved from 0.01515 to 0.01486, saving model to ../model\\test.keras\n",
      "\n",
      "Epoch 14: loss improved from 0.01486 to 0.01463, saving model to ../model\\test.keras\n",
      "\n",
      "Epoch 15: loss improved from 0.01463 to 0.01438, saving model to ../model\\test.keras\n",
      "\n",
      "Epoch 16: loss improved from 0.01438 to 0.01413, saving model to ../model\\test.keras\n",
      "\n",
      "Epoch 17: loss improved from 0.01413 to 0.01394, saving model to ../model\\test.keras\n",
      "\n",
      "Epoch 18: loss improved from 0.01394 to 0.01372, saving model to ../model\\test.keras\n",
      "\n",
      "Epoch 19: loss improved from 0.01372 to 0.01359, saving model to ../model\\test.keras\n",
      "\n",
      "Epoch 20: loss improved from 0.01359 to 0.01338, saving model to ../model\\test.keras\n",
      "\n",
      "Epoch 21: loss improved from 0.01338 to 0.01319, saving model to ../model\\test.keras\n",
      "\n",
      "Epoch 22: loss improved from 0.01319 to 0.01308, saving model to ../model\\test.keras\n",
      "\n",
      "Epoch 23: loss improved from 0.01308 to 0.01287, saving model to ../model\\test.keras\n",
      "\n",
      "Epoch 24: loss improved from 0.01287 to 0.01279, saving model to ../model\\test.keras\n",
      "\n",
      "Epoch 25: loss improved from 0.01279 to 0.01271, saving model to ../model\\test.keras\n",
      "\n",
      "Epoch 26: loss improved from 0.01271 to 0.01263, saving model to ../model\\test.keras\n",
      "\n",
      "Epoch 27: loss improved from 0.01263 to 0.01251, saving model to ../model\\test.keras\n",
      "\n",
      "Epoch 28: loss improved from 0.01251 to 0.01242, saving model to ../model\\test.keras\n",
      "\n",
      "Epoch 29: loss improved from 0.01242 to 0.01234, saving model to ../model\\test.keras\n",
      "\n",
      "Epoch 30: loss improved from 0.01234 to 0.01226, saving model to ../model\\test.keras\n",
      "\n",
      "Epoch 31: loss improved from 0.01226 to 0.01226, saving model to ../model\\test.keras\n",
      "\n",
      "Epoch 32: loss improved from 0.01226 to 0.01213, saving model to ../model\\test.keras\n",
      "\n",
      "Epoch 33: loss improved from 0.01213 to 0.01207, saving model to ../model\\test.keras\n",
      "\n",
      "Epoch 34: loss improved from 0.01207 to 0.01199, saving model to ../model\\test.keras\n",
      "\n",
      "Epoch 35: loss improved from 0.01199 to 0.01197, saving model to ../model\\test.keras\n",
      "\n",
      "Epoch 36: loss improved from 0.01197 to 0.01190, saving model to ../model\\test.keras\n",
      "\n",
      "Epoch 37: loss improved from 0.01190 to 0.01182, saving model to ../model\\test.keras\n",
      "\n",
      "Epoch 38: loss improved from 0.01182 to 0.01177, saving model to ../model\\test.keras\n",
      "\n",
      "Epoch 39: loss improved from 0.01177 to 0.01171, saving model to ../model\\test.keras\n",
      "\n",
      "Epoch 40: loss improved from 0.01171 to 0.01169, saving model to ../model\\test.keras\n",
      "\n",
      "Epoch 41: loss improved from 0.01169 to 0.01161, saving model to ../model\\test.keras\n",
      "\n",
      "Epoch 42: loss improved from 0.01161 to 0.01154, saving model to ../model\\test.keras\n",
      "\n",
      "Epoch 43: loss improved from 0.01154 to 0.01150, saving model to ../model\\test.keras\n",
      "\n",
      "Epoch 44: loss improved from 0.01150 to 0.01144, saving model to ../model\\test.keras\n",
      "\n",
      "Epoch 45: loss improved from 0.01144 to 0.01142, saving model to ../model\\test.keras\n",
      "\n",
      "Epoch 46: loss improved from 0.01142 to 0.01132, saving model to ../model\\test.keras\n",
      "\n",
      "Epoch 47: loss improved from 0.01132 to 0.01128, saving model to ../model\\test.keras\n",
      "\n",
      "Epoch 48: loss improved from 0.01128 to 0.01124, saving model to ../model\\test.keras\n",
      "\n",
      "Epoch 49: loss improved from 0.01124 to 0.01124, saving model to ../model\\test.keras\n",
      "\n",
      "Epoch 50: loss improved from 0.01124 to 0.01116, saving model to ../model\\test.keras\n",
      "\n",
      "Epoch 51: loss improved from 0.01116 to 0.01109, saving model to ../model\\test.keras\n",
      "\n",
      "Epoch 52: loss improved from 0.01109 to 0.01106, saving model to ../model\\test.keras\n",
      "\n",
      "Epoch 53: loss improved from 0.01106 to 0.01105, saving model to ../model\\test.keras\n",
      "\n",
      "Epoch 54: loss improved from 0.01105 to 0.01099, saving model to ../model\\test.keras\n",
      "\n",
      "Epoch 55: loss improved from 0.01099 to 0.01094, saving model to ../model\\test.keras\n",
      "\n",
      "Epoch 56: loss improved from 0.01094 to 0.01093, saving model to ../model\\test.keras\n",
      "\n",
      "Epoch 57: loss improved from 0.01093 to 0.01087, saving model to ../model\\test.keras\n",
      "\n",
      "Epoch 58: loss improved from 0.01087 to 0.01083, saving model to ../model\\test.keras\n",
      "\n",
      "Epoch 59: loss improved from 0.01083 to 0.01083, saving model to ../model\\test.keras\n",
      "\n",
      "Epoch 60: loss improved from 0.01083 to 0.01080, saving model to ../model\\test.keras\n",
      "\n",
      "Epoch 61: loss improved from 0.01080 to 0.01074, saving model to ../model\\test.keras\n",
      "\n",
      "Epoch 62: loss improved from 0.01074 to 0.01072, saving model to ../model\\test.keras\n",
      "\n",
      "Epoch 63: loss improved from 0.01072 to 0.01065, saving model to ../model\\test.keras\n",
      "\n",
      "Epoch 64: loss improved from 0.01065 to 0.01064, saving model to ../model\\test.keras\n",
      "\n",
      "Epoch 65: loss did not improve from 0.01064\n",
      "\n",
      "Epoch 66: loss improved from 0.01064 to 0.01060, saving model to ../model\\test.keras\n",
      "\n",
      "Epoch 67: loss improved from 0.01060 to 0.01053, saving model to ../model\\test.keras\n",
      "\n",
      "Epoch 68: loss did not improve from 0.01053\n",
      "\n",
      "Epoch 69: loss did not improve from 0.01053\n",
      "\n",
      "Epoch 70: loss improved from 0.01053 to 0.01044, saving model to ../model\\test.keras\n",
      "\n",
      "Epoch 71: loss improved from 0.01044 to 0.01044, saving model to ../model\\test.keras\n",
      "\n",
      "Epoch 72: loss did not improve from 0.01044\n",
      "\n",
      "Epoch 73: loss improved from 0.01044 to 0.01039, saving model to ../model\\test.keras\n",
      "\n",
      "Epoch 74: loss improved from 0.01039 to 0.01028, saving model to ../model\\test.keras\n",
      "\n",
      "Epoch 75: loss improved from 0.01028 to 0.01023, saving model to ../model\\test.keras\n",
      "\n",
      "Epoch 76: loss did not improve from 0.01023\n",
      "\n",
      "Epoch 77: loss improved from 0.01023 to 0.01020, saving model to ../model\\test.keras\n",
      "\n",
      "Epoch 78: loss improved from 0.01020 to 0.01014, saving model to ../model\\test.keras\n",
      "\n",
      "Epoch 79: loss improved from 0.01014 to 0.01009, saving model to ../model\\test.keras\n",
      "\n",
      "Epoch 80: loss improved from 0.01009 to 0.01006, saving model to ../model\\test.keras\n",
      "\n",
      "Epoch 81: loss did not improve from 0.01006\n",
      "\n",
      "Epoch 82: loss improved from 0.01006 to 0.01002, saving model to ../model\\test.keras\n",
      "\n",
      "Epoch 83: loss did not improve from 0.01002\n",
      "\n",
      "Epoch 84: loss did not improve from 0.01002\n",
      "\n",
      "Epoch 85: loss improved from 0.01002 to 0.00991, saving model to ../model\\test.keras\n",
      "\n",
      "Epoch 86: loss did not improve from 0.00991\n",
      "\n",
      "Epoch 87: loss improved from 0.00991 to 0.00989, saving model to ../model\\test.keras\n",
      "\n",
      "Epoch 88: loss improved from 0.00989 to 0.00986, saving model to ../model\\test.keras\n",
      "\n",
      "Epoch 89: loss did not improve from 0.00986\n",
      "\n",
      "Epoch 90: loss improved from 0.00986 to 0.00983, saving model to ../model\\test.keras\n",
      "\n",
      "Epoch 91: loss improved from 0.00983 to 0.00980, saving model to ../model\\test.keras\n",
      "\n",
      "Epoch 92: loss improved from 0.00980 to 0.00977, saving model to ../model\\test.keras\n",
      "\n",
      "Epoch 93: loss did not improve from 0.00977\n",
      "\n",
      "Epoch 94: loss improved from 0.00977 to 0.00971, saving model to ../model\\test.keras\n",
      "\n",
      "Epoch 95: loss improved from 0.00971 to 0.00971, saving model to ../model\\test.keras\n",
      "\n",
      "Epoch 96: loss did not improve from 0.00971\n",
      "\n",
      "Epoch 97: loss improved from 0.00971 to 0.00965, saving model to ../model\\test.keras\n",
      "\n",
      "Epoch 98: loss improved from 0.00965 to 0.00963, saving model to ../model\\test.keras\n",
      "\n",
      "Epoch 99: loss improved from 0.00963 to 0.00959, saving model to ../model\\test.keras\n",
      "\n",
      "Epoch 100: loss did not improve from 0.00959\n",
      "\n",
      "Epoch 101: loss did not improve from 0.00959\n",
      "\n",
      "Epoch 102: loss improved from 0.00959 to 0.00958, saving model to ../model\\test.keras\n",
      "\n",
      "Epoch 103: loss did not improve from 0.00958\n",
      "\n",
      "Epoch 104: loss improved from 0.00958 to 0.00955, saving model to ../model\\test.keras\n",
      "\n",
      "Epoch 105: loss improved from 0.00955 to 0.00953, saving model to ../model\\test.keras\n",
      "\n",
      "Epoch 106: loss did not improve from 0.00953\n",
      "\n",
      "Epoch 107: loss did not improve from 0.00953\n",
      "\n",
      "Epoch 108: loss improved from 0.00953 to 0.00950, saving model to ../model\\test.keras\n",
      "\n",
      "Epoch 109: loss did not improve from 0.00950\n",
      "\n",
      "Epoch 110: loss improved from 0.00950 to 0.00939, saving model to ../model\\test.keras\n",
      "\n",
      "Epoch 111: loss did not improve from 0.00939\n",
      "\n",
      "Epoch 112: loss did not improve from 0.00939\n",
      "\n",
      "Epoch 113: loss did not improve from 0.00939\n",
      "\n",
      "Epoch 114: loss did not improve from 0.00939\n",
      "\n",
      "Epoch 115: loss improved from 0.00939 to 0.00934, saving model to ../model\\test.keras\n",
      "\n",
      "Epoch 116: loss did not improve from 0.00934\n",
      "\n",
      "Epoch 117: loss improved from 0.00934 to 0.00932, saving model to ../model\\test.keras\n",
      "\n",
      "Epoch 118: loss improved from 0.00932 to 0.00929, saving model to ../model\\test.keras\n",
      "\n",
      "Epoch 119: loss did not improve from 0.00929\n",
      "\n",
      "Epoch 120: loss improved from 0.00929 to 0.00924, saving model to ../model\\test.keras\n",
      "\n",
      "Epoch 121: loss did not improve from 0.00924\n",
      "\n",
      "Epoch 122: loss did not improve from 0.00924\n",
      "\n",
      "Epoch 123: loss improved from 0.00924 to 0.00918, saving model to ../model\\test.keras\n",
      "\n",
      "Epoch 124: loss did not improve from 0.00918\n",
      "\n",
      "Epoch 125: loss improved from 0.00918 to 0.00913, saving model to ../model\\test.keras\n",
      "\n",
      "Epoch 126: loss did not improve from 0.00913\n",
      "\n",
      "Epoch 127: loss improved from 0.00913 to 0.00911, saving model to ../model\\test.keras\n",
      "\n",
      "Epoch 128: loss improved from 0.00911 to 0.00907, saving model to ../model\\test.keras\n",
      "\n",
      "Epoch 129: loss improved from 0.00907 to 0.00906, saving model to ../model\\test.keras\n",
      "\n",
      "Epoch 130: loss improved from 0.00906 to 0.00895, saving model to ../model\\test.keras\n",
      "\n",
      "Epoch 131: loss did not improve from 0.00895\n",
      "\n",
      "Epoch 132: loss improved from 0.00895 to 0.00889, saving model to ../model\\test.keras\n",
      "\n",
      "Epoch 133: loss did not improve from 0.00889\n",
      "\n",
      "Epoch 134: loss did not improve from 0.00889\n",
      "\n",
      "Epoch 135: loss improved from 0.00889 to 0.00877, saving model to ../model\\test.keras\n",
      "\n",
      "Epoch 136: loss improved from 0.00877 to 0.00871, saving model to ../model\\test.keras\n",
      "\n",
      "Epoch 137: loss did not improve from 0.00871\n",
      "\n",
      "Epoch 138: loss improved from 0.00871 to 0.00852, saving model to ../model\\test.keras\n",
      "\n",
      "Epoch 139: loss did not improve from 0.00852\n",
      "\n",
      "Epoch 140: loss did not improve from 0.00852\n",
      "\n",
      "Epoch 141: loss improved from 0.00852 to 0.00839, saving model to ../model\\test.keras\n",
      "\n",
      "Epoch 142: loss did not improve from 0.00839\n",
      "\n",
      "Epoch 143: loss improved from 0.00839 to 0.00829, saving model to ../model\\test.keras\n",
      "\n",
      "Epoch 144: loss improved from 0.00829 to 0.00820, saving model to ../model\\test.keras\n",
      "\n",
      "Epoch 145: loss improved from 0.00820 to 0.00816, saving model to ../model\\test.keras\n",
      "\n",
      "Epoch 146: loss improved from 0.00816 to 0.00800, saving model to ../model\\test.keras\n",
      "\n",
      "Epoch 147: loss did not improve from 0.00800\n",
      "\n",
      "Epoch 148: loss improved from 0.00800 to 0.00791, saving model to ../model\\test.keras\n",
      "\n",
      "Epoch 149: loss did not improve from 0.00791\n",
      "\n",
      "Epoch 150: loss did not improve from 0.00791\n",
      "\n",
      "Epoch 151: loss improved from 0.00791 to 0.00777, saving model to ../model\\test.keras\n",
      "\n",
      "Epoch 152: loss improved from 0.00777 to 0.00774, saving model to ../model\\test.keras\n",
      "\n",
      "Epoch 153: loss improved from 0.00774 to 0.00769, saving model to ../model\\test.keras\n",
      "\n",
      "Epoch 154: loss did not improve from 0.00769\n",
      "\n",
      "Epoch 155: loss did not improve from 0.00769\n",
      "\n",
      "Epoch 156: loss did not improve from 0.00769\n",
      "\n",
      "Epoch 157: loss did not improve from 0.00769\n",
      "\n",
      "Epoch 158: loss improved from 0.00769 to 0.00765, saving model to ../model\\test.keras\n",
      "\n",
      "Epoch 159: loss improved from 0.00765 to 0.00763, saving model to ../model\\test.keras\n",
      "\n",
      "Epoch 160: loss improved from 0.00763 to 0.00758, saving model to ../model\\test.keras\n",
      "\n",
      "Epoch 161: loss did not improve from 0.00758\n",
      "\n",
      "Epoch 162: loss did not improve from 0.00758\n",
      "\n",
      "Epoch 163: loss improved from 0.00758 to 0.00751, saving model to ../model\\test.keras\n",
      "\n",
      "Epoch 164: loss did not improve from 0.00751\n",
      "\n",
      "Epoch 165: loss improved from 0.00751 to 0.00749, saving model to ../model\\test.keras\n",
      "\n",
      "Epoch 166: loss improved from 0.00749 to 0.00749, saving model to ../model\\test.keras\n",
      "\n",
      "Epoch 167: loss did not improve from 0.00749\n",
      "\n",
      "Epoch 168: loss did not improve from 0.00749\n",
      "\n",
      "Epoch 169: loss improved from 0.00749 to 0.00746, saving model to ../model\\test.keras\n",
      "\n",
      "Epoch 170: loss improved from 0.00746 to 0.00745, saving model to ../model\\test.keras\n",
      "\n",
      "Epoch 171: loss improved from 0.00745 to 0.00743, saving model to ../model\\test.keras\n",
      "\n",
      "Epoch 172: loss improved from 0.00743 to 0.00735, saving model to ../model\\test.keras\n",
      "\n",
      "Epoch 173: loss did not improve from 0.00735\n",
      "\n",
      "Epoch 174: loss did not improve from 0.00735\n",
      "\n",
      "Epoch 175: loss did not improve from 0.00735\n",
      "\n",
      "Epoch 176: loss did not improve from 0.00735\n",
      "\n",
      "Epoch 177: loss did not improve from 0.00735\n",
      "Epoch 177: early stopping\n"
     ]
    },
    {
     "data": {
      "text/plain": [
       "<keras.src.callbacks.history.History at 0x1ec03db9d50>"
      ]
     },
     "execution_count": 631,
     "metadata": {},
     "output_type": "execute_result"
    }
   ],
   "source": [
    "from keras.callbacks import EarlyStopping\n",
    "from keras.callbacks import ModelCheckpoint\n",
    "import os\n",
    "model = build_model(input_shape=(trainX.shape[1], trainX.shape[2]), unit=32)\n",
    "es = EarlyStopping(monitor='loss', mode='min', verbose=1, patience=5)\n",
    "file_path = os.path.join('../model', 'test.keras')\n",
    "\n",
    "mc = ModelCheckpoint(file_path, monitor='loss', mode='min', verbose=1, save_best_only=True)\n",
    "\n",
    "model.fit(trainX, trainY,batch_size=1, callbacks=[es, mc], verbose=0, epochs=200)"
   ]
  },
  {
   "cell_type": "code",
   "execution_count": 632,
   "metadata": {},
   "outputs": [
    {
     "name": "stdout",
     "output_type": "stream",
     "text": [
      "(8, 2)\n"
     ]
    }
   ],
   "source": [
    "# from keras.models import load_model\n",
    "# import os\n",
    "# file_path = os.path.join('../model', 'test.keras')\n",
    "# model = load_model(file_path, custom_objects={\"custom_loss\": custom_loss})\n",
    "\n",
    "\n",
    "forecasts = make_forecasts(testX, model)\n",
    "# invert predictions\n",
    "forecasts = inverse_transform(forecasts, scaler)\n",
    "testY_ = inverse_transform(testY, scaler)\n",
    "# evaluate_forecasts(testY_[:,0].reshape(-1), forecasts[:, 0].reshape(-1))"
   ]
  },
  {
   "cell_type": "code",
   "execution_count": 633,
   "metadata": {},
   "outputs": [
    {
     "data": {
      "image/png": "[encoded data removed]",
      "text/plain": [
       "<Figure size 640x480 with 1 Axes>"
      ]
     },
     "metadata": {},
     "output_type": "display_data"
    }
   ],
   "source": [
    "new_shape = (testY_.shape[0] * testY_.shape[1], testY_.shape[2])\n",
    "plot(testY_.reshape(new_shape), forecasts.reshape(new_shape))"
   ]
  },
  {
   "cell_type": "code",
   "execution_count": 634,
   "metadata": {},
   "outputs": [
    {
     "data": {
      "image/png": "[encoded data removed]",
      "text/plain": [
       "<Figure size 800x600 with 1 Axes>"
      ]
     },
     "metadata": {},
     "output_type": "display_data"
    }
   ],
   "source": [
    "plot_r2(testY_.reshape(new_shape).flatten(), forecasts.reshape(new_shape).flatten())"
   ]
  },
  {
   "cell_type": "code",
   "execution_count": 635,
   "metadata": {},
   "outputs": [
    {
     "name": "stdout",
     "output_type": "stream",
     "text": [
      "\u001b[1m1/1\u001b[0m \u001b[32m━━━━━━━━━━━━━━━━━━━━\u001b[0m\u001b[37m\u001b[0m \u001b[1m0s\u001b[0m 176ms/step\n"
     ]
    },
    {
     "data": {
      "image/png": "[encoded data removed]",
      "text/plain": [
       "<Figure size 640x480 with 1 Axes>"
      ]
     },
     "metadata": {},
     "output_type": "display_data"
    }
   ],
   "source": [
    "trainY_hat = model.predict(trainX)\n",
    "trainY_hat_inverse = inverse_transform(trainY_hat, scaler)\n",
    "trainY_inverse = inverse_transform(trainY, scaler)\n",
    "new_shape_train = (trainY_inverse.shape[0] * trainY_inverse.shape[1], trainY_inverse.shape[2])\n",
    "plot(trainY_inverse.reshape(new_shape_train), trainY_hat_inverse.reshape(new_shape_train))"
   ]
  },
  {
   "cell_type": "code",
   "execution_count": 636,
   "metadata": {},
   "outputs": [
    {
     "data": {
      "application/vnd.plotly.v1+json": {
       "config": {
        "plotlyServerURL": "https://plot.ly"
       },
       "data": [
        {
         "mode": "lines+markers",
         "name": "Influenza A Cases in month",
         "type": "scatter",
         "x": [
          "2011-04-01",
          "2011-05-01",
          "2011-06-01",
          "2011-07-01",
          "2011-08-01",
          "2011-09-01",
          "2011-10-01",
          "2011-11-01",
          "2011-12-01",
          "2012-01-01",
          "2012-02-01",
          "2012-03-01",
          "2012-04-01",
          "2012-05-01",
          "2012-06-01",
          "2012-07-01",
          "2012-08-01",
          "2012-09-01",
          "2012-10-01",
          "2012-11-01",
          "2012-12-01",
          "2013-01-01",
          "2013-02-01",
          "2013-03-01",
          "2013-04-01",
          "2013-05-01",
          "2013-06-01",
          "2013-07-01",
          "2013-08-01",
          "2013-09-01",
          "2013-10-01",
          "2013-11-01",
          "2013-12-01",
          "2014-01-01",
          "2014-02-01",
          "2014-03-01",
          "2014-04-01",
          "2014-05-01",
          "2014-06-01",
          "2014-07-01",
          "2014-08-01",
          "2014-09-01",
          "2014-10-01",
          "2014-11-01",
          "2014-12-01",
          "2015-01-01",
          "2015-02-01",
          "2015-03-01",
          "2015-04-01",
          "2015-05-01",
          "2015-06-01",
          "2015-07-01",
          "2015-08-01",
          "2015-09-01",
          "2015-10-01",
          "2015-11-01",
          "2015-12-01",
          "2016-01-01",
          "2016-02-01",
          "2016-03-01",
          "2016-04-01",
          "2016-05-01",
          "2016-06-01",
          "2016-07-01",
          "2016-08-01",
          "2016-09-01",
          "2016-10-01",
          "2016-11-01",
          "2016-12-01",
          "2017-01-01",
          "2017-02-01",
          "2017-03-01",
          "2017-04-01",
          "2017-05-01",
          "2017-06-01",
          "2017-07-01",
          "2017-08-01",
          "2017-09-01",
          "2017-10-01",
          "2017-11-01",
          "2017-12-01",
          "2018-01-01",
          "2018-02-01",
          "2018-03-01",
          "2018-04-01",
          "2018-05-01",
          "2018-06-01",
          "2018-07-01",
          "2018-08-01",
          "2018-09-01",
          "2018-10-01",
          "2018-11-01",
          "2018-12-01",
          "2019-01-01",
          "2019-02-01",
          "2019-03-01",
          "2019-04-01",
          "2019-05-01",
          "2019-06-01",
          "2019-07-01",
          "2019-08-01",
          "2019-09-01",
          "2019-10-01",
          "2019-11-01",
          "2019-12-01",
          "2020-01-01",
          "2020-02-01"
         ],
         "y": [
          48,
          59,
          30,
          73,
          121,
          90,
          97,
          38,
          7,
          11,
          7,
          8,
          17,
          52,
          103,
          64,
          9,
          7,
          12,
          10,
          18,
          9,
          12,
          31,
          93,
          121,
          158,
          120,
          43,
          33,
          30,
          40,
          34,
          24,
          20,
          60,
          28,
          62,
          75,
          9,
          4,
          7,
          3,
          6,
          14,
          12,
          8,
          62,
          46,
          37,
          67,
          73,
          95,
          51,
          54,
          58,
          11,
          0,
          2,
          14,
          16,
          54,
          42,
          43,
          43,
          22,
          22,
          28,
          18,
          13,
          8,
          11,
          26,
          45,
          44,
          83,
          78,
          73,
          68,
          25,
          11,
          10,
          7,
          15,
          12,
          22,
          25,
          24,
          16,
          24,
          60,
          43,
          12,
          3,
          5,
          9,
          16,
          4,
          4,
          26,
          22,
          35,
          38,
          17,
          20,
          13,
          6
         ]
        }
       ],
       "layout": {
        "showlegend": true,
        "template": {
         "data": {
          "bar": [
           {
            "error_x": {
             "color": "#2a3f5f"
            },
            "error_y": {
             "color": "#2a3f5f"
            },
            "marker": {
             "line": {
              "color": "#E5ECF6",
              "width": 0.5
             },
             "pattern": {
              "fillmode": "overlay",
              "size": 10,
              "solidity": 0.2
             }
            },
            "type": "bar"
           }
          ],
          "barpolar": [
           {
            "marker": {
             "line": {
              "color": "#E5ECF6",
              "width": 0.5
             },
             "pattern": {
              "fillmode": "overlay",
              "size": 10,
              "solidity": 0.2
             }
            },
            "type": "barpolar"
           }
          ],
          "carpet": [
           {
            "aaxis": {
             "endlinecolor": "#2a3f5f",
             "gridcolor": "white",
             "linecolor": "white",
             "minorgridcolor": "white",
             "startlinecolor": "#2a3f5f"
            },
            "baxis": {
             "endlinecolor": "#2a3f5f",
             "gridcolor": "white",
             "linecolor": "white",
             "minorgridcolor": "white",
             "startlinecolor": "#2a3f5f"
            },
            "type": "carpet"
           }
          ],
          "choropleth": [
           {
            "colorbar": {
             "outlinewidth": 0,
             "ticks": ""
            },
            "type": "choropleth"
           }
          ],
          "contour": [
           {
            "colorbar": {
             "outlinewidth": 0,
             "ticks": ""
            },
            "colorscale": [
             [
              0,
              "#0d0887"
             ],
             [
              0.1111111111111111,
              "#46039f"
             ],
             [
              0.2222222222222222,
              "#7201a8"
             ],
             [
              0.3333333333333333,
              "#9c179e"
             ],
             [
              0.4444444444444444,
              "#bd3786"
             ],
             [
              0.5555555555555556,
              "#d8576b"
             ],
             [
              0.6666666666666666,
              "#ed7953"
             ],
             [
              0.7777777777777778,
              "#fb9f3a"
             ],
             [
              0.8888888888888888,
              "#fdca26"
             ],
             [
              1,
              "#f0f921"
             ]
            ],
            "type": "contour"
           }
          ],
          "contourcarpet": [
           {
            "colorbar": {
             "outlinewidth": 0,
             "ticks": ""
            },
            "type": "contourcarpet"
           }
          ],
          "heatmap": [
           {
            "colorbar": {
             "outlinewidth": 0,
             "ticks": ""
            },
            "colorscale": [
             [
              0,
              "#0d0887"
             ],
             [
              0.1111111111111111,
              "#46039f"
             ],
             [
              0.2222222222222222,
              "#7201a8"
             ],
             [
              0.3333333333333333,
              "#9c179e"
             ],
             [
              0.4444444444444444,
              "#bd3786"
             ],
             [
              0.5555555555555556,
              "#d8576b"
             ],
             [
              0.6666666666666666,
              "#ed7953"
             ],
             [
              0.7777777777777778,
              "#fb9f3a"
             ],
             [
              0.8888888888888888,
              "#fdca26"
             ],
             [
              1,
              "#f0f921"
             ]
            ],
            "type": "heatmap"
           }
          ],
          "heatmapgl": [
           {
            "colorbar": {
             "outlinewidth": 0,
             "ticks": ""
            },
            "colorscale": [
             [
              0,
              "#0d0887"
             ],
             [
              0.1111111111111111,
              "#46039f"
             ],
             [
              0.2222222222222222,
              "#7201a8"
             ],
             [
              0.3333333333333333,
              "#9c179e"
             ],
             [
              0.4444444444444444,
              "#bd3786"
             ],
             [
              0.5555555555555556,
              "#d8576b"
             ],
             [
              0.6666666666666666,
              "#ed7953"
             ],
             [
              0.7777777777777778,
              "#fb9f3a"
             ],
             [
              0.8888888888888888,
              "#fdca26"
             ],
             [
              1,
              "#f0f921"
             ]
            ],
            "type": "heatmapgl"
           }
          ],
          "histogram": [
           {
            "marker": {
             "pattern": {
              "fillmode": "overlay",
              "size": 10,
              "solidity": 0.2
             }
            },
            "type": "histogram"
           }
          ],
          "histogram2d": [
           {
            "colorbar": {
             "outlinewidth": 0,
             "ticks": ""
            },
            "colorscale": [
             [
              0,
              "#0d0887"
             ],
             [
              0.1111111111111111,
              "#46039f"
             ],
             [
              0.2222222222222222,
              "#7201a8"
             ],
             [
              0.3333333333333333,
              "#9c179e"
             ],
             [
              0.4444444444444444,
              "#bd3786"
             ],
             [
              0.5555555555555556,
              "#d8576b"
             ],
             [
              0.6666666666666666,
              "#ed7953"
             ],
             [
              0.7777777777777778,
              "#fb9f3a"
             ],
             [
              0.8888888888888888,
              "#fdca26"
             ],
             [
              1,
              "#f0f921"
             ]
            ],
            "type": "histogram2d"
           }
          ],
          "histogram2dcontour": [
           {
            "colorbar": {
             "outlinewidth": 0,
             "ticks": ""
            },
            "colorscale": [
             [
              0,
              "#0d0887"
             ],
             [
              0.1111111111111111,
              "#46039f"
             ],
             [
              0.2222222222222222,
              "#7201a8"
             ],
             [
              0.3333333333333333,
              "#9c179e"
             ],
             [
              0.4444444444444444,
              "#bd3786"
             ],
             [
              0.5555555555555556,
              "#d8576b"
             ],
             [
              0.6666666666666666,
              "#ed7953"
             ],
             [
              0.7777777777777778,
              "#fb9f3a"
             ],
             [
              0.8888888888888888,
              "#fdca26"
             ],
             [
              1,
              "#f0f921"
             ]
            ],
            "type": "histogram2dcontour"
           }
          ],
          "mesh3d": [
           {
            "colorbar": {
             "outlinewidth": 0,
             "ticks": ""
            },
            "type": "mesh3d"
           }
          ],
          "parcoords": [
           {
            "line": {
             "colorbar": {
              "outlinewidth": 0,
              "ticks": ""
             }
            },
            "type": "parcoords"
           }
          ],
          "pie": [
           {
            "automargin": true,
            "type": "pie"
           }
          ],
          "scatter": [
           {
            "fillpattern": {
             "fillmode": "overlay",
             "size": 10,
             "solidity": 0.2
            },
            "type": "scatter"
           }
          ],
          "scatter3d": [
           {
            "line": {
             "colorbar": {
              "outlinewidth": 0,
              "ticks": ""
             }
            },
            "marker": {
             "colorbar": {
              "outlinewidth": 0,
              "ticks": ""
             }
            },
            "type": "scatter3d"
           }
          ],
          "scattercarpet": [
           {
            "marker": {
             "colorbar": {
              "outlinewidth": 0,
              "ticks": ""
             }
            },
            "type": "scattercarpet"
           }
          ],
          "scattergeo": [
           {
            "marker": {
             "colorbar": {
              "outlinewidth": 0,
              "ticks": ""
             }
            },
            "type": "scattergeo"
           }
          ],
          "scattergl": [
           {
            "marker": {
             "colorbar": {
              "outlinewidth": 0,
              "ticks": ""
             }
            },
            "type": "scattergl"
           }
          ],
          "scattermapbox": [
           {
            "marker": {
             "colorbar": {
              "outlinewidth": 0,
              "ticks": ""
             }
            },
            "type": "scattermapbox"
           }
          ],
          "scatterpolar": [
           {
            "marker": {
             "colorbar": {
              "outlinewidth": 0,
              "ticks": ""
             }
            },
            "type": "scatterpolar"
           }
          ],
          "scatterpolargl": [
           {
            "marker": {
             "colorbar": {
              "outlinewidth": 0,
              "ticks": ""
             }
            },
            "type": "scatterpolargl"
           }
          ],
          "scatterternary": [
           {
            "marker": {
             "colorbar": {
              "outlinewidth": 0,
              "ticks": ""
             }
            },
            "type": "scatterternary"
           }
          ],
          "surface": [
           {
            "colorbar": {
             "outlinewidth": 0,
             "ticks": ""
            },
            "colorscale": [
             [
              0,
              "#0d0887"
             ],
             [
              0.1111111111111111,
              "#46039f"
             ],
             [
              0.2222222222222222,
              "#7201a8"
             ],
             [
              0.3333333333333333,
              "#9c179e"
             ],
             [
              0.4444444444444444,
              "#bd3786"
             ],
             [
              0.5555555555555556,
              "#d8576b"
             ],
             [
              0.6666666666666666,
              "#ed7953"
             ],
             [
              0.7777777777777778,
              "#fb9f3a"
             ],
             [
              0.8888888888888888,
              "#fdca26"
             ],
             [
              1,
              "#f0f921"
             ]
            ],
            "type": "surface"
           }
          ],
          "table": [
           {
            "cells": {
             "fill": {
              "color": "#EBF0F8"
             },
             "line": {
              "color": "white"
             }
            },
            "header": {
             "fill": {
              "color": "#C8D4E3"
             },
             "line": {
              "color": "white"
             }
            },
            "type": "table"
           }
          ]
         },
         "layout": {
          "annotationdefaults": {
           "arrowcolor": "#2a3f5f",
           "arrowhead": 0,
           "arrowwidth": 1
          },
          "autotypenumbers": "strict",
          "coloraxis": {
           "colorbar": {
            "outlinewidth": 0,
            "ticks": ""
           }
          },
          "colorscale": {
           "diverging": [
            [
             0,
             "#8e0152"
            ],
            [
             0.1,
             "#c51b7d"
            ],
            [
             0.2,
             "#de77ae"
            ],
            [
             0.3,
             "#f1b6da"
            ],
            [
             0.4,
             "#fde0ef"
            ],
            [
             0.5,
             "#f7f7f7"
            ],
            [
             0.6,
             "#e6f5d0"
            ],
            [
             0.7,
             "#b8e186"
            ],
            [
             0.8,
             "#7fbc41"
            ],
            [
             0.9,
             "#4d9221"
            ],
            [
             1,
             "#276419"
            ]
           ],
           "sequential": [
            [
             0,
             "#0d0887"
            ],
            [
             0.1111111111111111,
             "#46039f"
            ],
            [
             0.2222222222222222,
             "#7201a8"
            ],
            [
             0.3333333333333333,
             "#9c179e"
            ],
            [
             0.4444444444444444,
             "#bd3786"
            ],
            [
             0.5555555555555556,
             "#d8576b"
            ],
            [
             0.6666666666666666,
             "#ed7953"
            ],
            [
             0.7777777777777778,
             "#fb9f3a"
            ],
            [
             0.8888888888888888,
             "#fdca26"
            ],
            [
             1,
             "#f0f921"
            ]
           ],
           "sequentialminus": [
            [
             0,
             "#0d0887"
            ],
            [
             0.1111111111111111,
             "#46039f"
            ],
            [
             0.2222222222222222,
             "#7201a8"
            ],
            [
             0.3333333333333333,
             "#9c179e"
            ],
            [
             0.4444444444444444,
             "#bd3786"
            ],
            [
             0.5555555555555556,
             "#d8576b"
            ],
            [
             0.6666666666666666,
             "#ed7953"
            ],
            [
             0.7777777777777778,
             "#fb9f3a"
            ],
            [
             0.8888888888888888,
             "#fdca26"
            ],
            [
             1,
             "#f0f921"
            ]
           ]
          },
          "colorway": [
           "#636efa",
           "#EF553B",
           "#00cc96",
           "#ab63fa",
           "#FFA15A",
           "#19d3f3",
           "#FF6692",
           "#B6E880",
           "#FF97FF",
           "#FECB52"
          ],
          "font": {
           "color": "#2a3f5f"
          },
          "geo": {
           "bgcolor": "white",
           "lakecolor": "white",
           "landcolor": "#E5ECF6",
           "showlakes": true,
           "showland": true,
           "subunitcolor": "white"
          },
          "hoverlabel": {
           "align": "left"
          },
          "hovermode": "closest",
          "mapbox": {
           "style": "light"
          },
          "paper_bgcolor": "white",
          "plot_bgcolor": "#E5ECF6",
          "polar": {
           "angularaxis": {
            "gridcolor": "white",
            "linecolor": "white",
            "ticks": ""
           },
           "bgcolor": "#E5ECF6",
           "radialaxis": {
            "gridcolor": "white",
            "linecolor": "white",
            "ticks": ""
           }
          },
          "scene": {
           "xaxis": {
            "backgroundcolor": "#E5ECF6",
            "gridcolor": "white",
            "gridwidth": 2,
            "linecolor": "white",
            "showbackground": true,
            "ticks": "",
            "zerolinecolor": "white"
           },
           "yaxis": {
            "backgroundcolor": "#E5ECF6",
            "gridcolor": "white",
            "gridwidth": 2,
            "linecolor": "white",
            "showbackground": true,
            "ticks": "",
            "zerolinecolor": "white"
           },
           "zaxis": {
            "backgroundcolor": "#E5ECF6",
            "gridcolor": "white",
            "gridwidth": 2,
            "linecolor": "white",
            "showbackground": true,
            "ticks": "",
            "zerolinecolor": "white"
           }
          },
          "shapedefaults": {
           "line": {
            "color": "#2a3f5f"
           }
          },
          "ternary": {
           "aaxis": {
            "gridcolor": "white",
            "linecolor": "white",
            "ticks": ""
           },
           "baxis": {
            "gridcolor": "white",
            "linecolor": "white",
            "ticks": ""
           },
           "bgcolor": "#E5ECF6",
           "caxis": {
            "gridcolor": "white",
            "linecolor": "white",
            "ticks": ""
           }
          },
          "title": {
           "x": 0.05
          },
          "xaxis": {
           "automargin": true,
           "gridcolor": "white",
           "linecolor": "white",
           "ticks": "",
           "title": {
            "standoff": 15
           },
           "zerolinecolor": "white",
           "zerolinewidth": 2
          },
          "yaxis": {
           "automargin": true,
           "gridcolor": "white",
           "linecolor": "white",
           "ticks": "",
           "title": {
            "standoff": 15
           },
           "zerolinecolor": "white",
           "zerolinewidth": 2
          }
         }
        },
        "title": {
         "text": "Influenza A Cases Over Time"
        },
        "xaxis": {
         "tickangle": 90,
         "tickformat": "%Y-%m",
         "tickvals": [
          "2011-04-01",
          "2011-05-01",
          "2011-06-01",
          "2011-07-01",
          "2011-08-01",
          "2011-09-01",
          "2011-10-01",
          "2011-11-01",
          "2011-12-01",
          "2012-01-01",
          "2012-02-01",
          "2012-03-01",
          "2012-04-01",
          "2012-05-01",
          "2012-06-01",
          "2012-07-01",
          "2012-08-01",
          "2012-09-01",
          "2012-10-01",
          "2012-11-01",
          "2012-12-01",
          "2013-01-01",
          "2013-02-01",
          "2013-03-01",
          "2013-04-01",
          "2013-05-01",
          "2013-06-01",
          "2013-07-01",
          "2013-08-01",
          "2013-09-01",
          "2013-10-01",
          "2013-11-01",
          "2013-12-01",
          "2014-01-01",
          "2014-02-01",
          "2014-03-01",
          "2014-04-01",
          "2014-05-01",
          "2014-06-01",
          "2014-07-01",
          "2014-08-01",
          "2014-09-01",
          "2014-10-01",
          "2014-11-01",
          "2014-12-01",
          "2015-01-01",
          "2015-02-01",
          "2015-03-01",
          "2015-04-01",
          "2015-05-01",
          "2015-06-01",
          "2015-07-01",
          "2015-08-01",
          "2015-09-01",
          "2015-10-01",
          "2015-11-01",
          "2015-12-01",
          "2016-01-01",
          "2016-02-01",
          "2016-03-01",
          "2016-04-01",
          "2016-05-01",
          "2016-06-01",
          "2016-07-01",
          "2016-08-01",
          "2016-09-01",
          "2016-10-01",
          "2016-11-01",
          "2016-12-01",
          "2017-01-01",
          "2017-02-01",
          "2017-03-01",
          "2017-04-01",
          "2017-05-01",
          "2017-06-01",
          "2017-07-01",
          "2017-08-01",
          "2017-09-01",
          "2017-10-01",
          "2017-11-01",
          "2017-12-01",
          "2018-01-01",
          "2018-02-01",
          "2018-03-01",
          "2018-04-01",
          "2018-05-01",
          "2018-06-01",
          "2018-07-01",
          "2018-08-01",
          "2018-09-01",
          "2018-10-01",
          "2018-11-01",
          "2018-12-01",
          "2019-01-01",
          "2019-02-01",
          "2019-03-01",
          "2019-04-01",
          "2019-05-01",
          "2019-06-01",
          "2019-07-01",
          "2019-08-01",
          "2019-09-01",
          "2019-10-01",
          "2019-11-01",
          "2019-12-01",
          "2020-01-01",
          "2020-02-01"
         ],
         "title": {
          "text": "Month"
         }
        },
        "yaxis": {
         "title": {
          "text": "Number of Cases"
         }
        }
       }
      }
     },
     "metadata": {},
     "output_type": "display_data"
    }
   ],
   "source": [
    "from pandas import read_csv\n",
    "\n",
    "def read_data(file_path, num_features = 1):\n",
    "    series_influ_A_df = read_csv(file_path, engine='python')\n",
    "    series_influ_A_df = series_influ_A_df.rename(columns= {\"Influenza A - All types of surveillance\": \"case\"})\n",
    "\n",
    "    # because since 2011-03-01 It was announced that the H1N12009 flu had been controlled and treated as regular seasonal flu and\n",
    "    # since 2020-02-01, it's time for covid \n",
    "    \n",
    "    series_influ_A_df = series_influ_A_df.loc [(series_influ_A_df['Month'] >='2011-04-01') & (series_influ_A_df['Month'] <='2020-02-01')]\n",
    "    return series_influ_A_df.dropna()\n",
    "\n",
    "file_path = '../../temp_data/influA_vietnam_temp_month.csv'\n",
    "#Load data set\n",
    "df = read_data(file_path)\n",
    "\n",
    "plot_month_per_year(df, 'case')"
   ]
  }
 ],
 "metadata": {
  "kernelspec": {
   "display_name": "venv",
   "language": "python",
   "name": "python3"
  },
  "language_info": {
   "codemirror_mode": {
    "name": "ipython",
    "version": 3
   },
   "file_extension": ".py",
   "mimetype": "text/x-python",
   "name": "python",
   "nbconvert_exporter": "python",
   "pygments_lexer": "ipython3",
   "version": "3.10.10"
  }
 },
 "nbformat": 4,
 "nbformat_minor": 2
}
