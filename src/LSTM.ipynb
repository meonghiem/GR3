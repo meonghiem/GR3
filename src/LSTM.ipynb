{
 "cells": [
  {
   "cell_type": "code",
   "execution_count": 1,
   "metadata": {},
   "outputs": [],
   "source": [
    "import tensorflow as tf\n"
   ]
  },
  {
   "cell_type": "code",
   "execution_count": 2,
   "metadata": {},
   "outputs": [],
   "source": [
    "from pandas import read_csv\n",
    "#Load data set\n",
    "series_influ_A_df = read_csv('../temp_data/influA_vietnam.csv', usecols=[1,2,3], engine='python')\n",
    "# series_influ_A_df = series_influ_A_df[\"Influenza A - All types of surveillance\"]\n",
    "series_influ_A_df = series_influ_A_df.dropna()\n",
    "series_influ_A_df = series_influ_A_df.astype('float32')\n",
    "series_influ_A_df = series_influ_A_df.values\n",
    "# normalize the dataset\n",
    "from sklearn.preprocessing import MinMaxScaler\n",
    "scaler = MinMaxScaler(feature_range=(0, 1))\n",
    "dataset = scaler.fit_transform(series_influ_A_df)\n",
    "# Create Training and Test\n",
    "# (792,3)\n",
    "train = dataset[:780, :]\n",
    "test = dataset[780:, :]"
   ]
  },
  {
   "cell_type": "code",
   "execution_count": 3,
   "metadata": {},
   "outputs": [],
   "source": [
    "import numpy as np\n",
    "# convert an array of values into a dataset matrix\n",
    "def create_dataset(dataset, look_back=1):\n",
    "    dataX, dataY = [], []\n",
    "    for i in range(len(dataset)-look_back-1):\n",
    "        a = dataset[i:(i+look_back)]\n",
    "        dataX.append(a)\n",
    "        dataY.append(dataset[i + look_back])\n",
    "    return np.array(dataX), np.array(dataY)"
   ]
  },
  {
   "cell_type": "code",
   "execution_count": 4,
   "metadata": {},
   "outputs": [],
   "source": [
    "look_back = 2\n",
    "trainX, trainY = create_dataset(train, look_back)\n",
    "testX, testY = create_dataset(test, look_back)"
   ]
  },
  {
   "cell_type": "code",
   "execution_count": 5,
   "metadata": {},
   "outputs": [
    {
     "name": "stdout",
     "output_type": "stream",
     "text": [
      "[[0.08536585 0.23137772 0.30017656]\n",
      " [0.         0.18259722 0.2898764 ]]\n"
     ]
    }
   ],
   "source": [
    "print(trainX[0])\n",
    "# reshape input to be [samples, time steps, features]\n",
    "# trainX = np.reshape(trainX, (trainX.shape[0], 1, trainX.shape[1]))\n",
    "# testX = np.reshape(testX, (testX.shape[0], 1, testX.shape[1]))\n"
   ]
  },
  {
   "cell_type": "code",
   "execution_count": 6,
   "metadata": {},
   "outputs": [
    {
     "name": "stdout",
     "output_type": "stream",
     "text": [
      "Epoch 1/100\n"
     ]
    },
    {
     "name": "stderr",
     "output_type": "stream",
     "text": [
      "c:\\Users\\nghiemxuan\\Desktop\\nghiem\\GR3\\GR3\\venv\\lib\\site-packages\\keras\\src\\layers\\rnn\\rnn.py:204: UserWarning: Do not pass an `input_shape`/`input_dim` argument to a layer. When using Sequential models, prefer using an `Input(shape)` object as the first layer in the model instead.\n",
      "  super().__init__(**kwargs)\n"
     ]
    },
    {
     "name": "stdout",
     "output_type": "stream",
     "text": [
      "777/777 - 2s - 2ms/step - loss: 0.2106\n",
      "Epoch 2/100\n",
      "777/777 - 1s - 998us/step - loss: 0.1273\n",
      "Epoch 3/100\n",
      "777/777 - 1s - 948us/step - loss: 0.1152\n",
      "Epoch 4/100\n",
      "777/777 - 1s - 854us/step - loss: 0.1082\n",
      "Epoch 5/100\n",
      "777/777 - 1s - 852us/step - loss: 0.1036\n",
      "Epoch 6/100\n",
      "777/777 - 1s - 907us/step - loss: 0.0997\n",
      "Epoch 7/100\n",
      "777/777 - 1s - 997us/step - loss: 0.0970\n",
      "Epoch 8/100\n",
      "777/777 - 1s - 1ms/step - loss: 0.0964\n",
      "Epoch 9/100\n",
      "777/777 - 1s - 884us/step - loss: 0.0958\n",
      "Epoch 10/100\n",
      "777/777 - 1s - 889us/step - loss: 0.0953\n",
      "Epoch 11/100\n",
      "777/777 - 1s - 939us/step - loss: 0.0951\n",
      "Epoch 12/100\n",
      "777/777 - 1s - 960us/step - loss: 0.0949\n",
      "Epoch 13/100\n",
      "777/777 - 1s - 798us/step - loss: 0.0947\n",
      "Epoch 14/100\n",
      "777/777 - 1s - 973us/step - loss: 0.0946\n",
      "Epoch 15/100\n",
      "777/777 - 1s - 900us/step - loss: 0.0949\n",
      "Epoch 16/100\n",
      "777/777 - 1s - 946us/step - loss: 0.0945\n",
      "Epoch 17/100\n",
      "777/777 - 1s - 835us/step - loss: 0.0944\n",
      "Epoch 18/100\n",
      "777/777 - 1s - 887us/step - loss: 0.0940\n",
      "Epoch 19/100\n",
      "777/777 - 1s - 925us/step - loss: 0.0943\n",
      "Epoch 20/100\n",
      "777/777 - 1s - 896us/step - loss: 0.0942\n",
      "Epoch 21/100\n",
      "777/777 - 1s - 908us/step - loss: 0.0943\n",
      "Epoch 22/100\n",
      "777/777 - 1s - 846us/step - loss: 0.0945\n",
      "Epoch 23/100\n",
      "777/777 - 1s - 898us/step - loss: 0.0939\n",
      "Epoch 24/100\n",
      "777/777 - 1s - 914us/step - loss: 0.0942\n",
      "Epoch 25/100\n",
      "777/777 - 1s - 844us/step - loss: 0.0944\n",
      "Epoch 26/100\n",
      "777/777 - 1s - 874us/step - loss: 0.0944\n",
      "Epoch 27/100\n",
      "777/777 - 1s - 1ms/step - loss: 0.0940\n",
      "Epoch 28/100\n",
      "777/777 - 1s - 1ms/step - loss: 0.0938\n",
      "Epoch 29/100\n",
      "777/777 - 1s - 927us/step - loss: 0.0941\n",
      "Epoch 30/100\n",
      "777/777 - 1s - 925us/step - loss: 0.0935\n",
      "Epoch 31/100\n",
      "777/777 - 1s - 857us/step - loss: 0.0940\n",
      "Epoch 32/100\n",
      "777/777 - 1s - 861us/step - loss: 0.0941\n",
      "Epoch 33/100\n",
      "777/777 - 1s - 853us/step - loss: 0.0937\n",
      "Epoch 34/100\n",
      "777/777 - 1s - 900us/step - loss: 0.0941\n",
      "Epoch 35/100\n",
      "777/777 - 1s - 868us/step - loss: 0.0941\n",
      "Epoch 36/100\n",
      "777/777 - 1s - 859us/step - loss: 0.0936\n",
      "Epoch 37/100\n",
      "777/777 - 1s - 856us/step - loss: 0.0937\n",
      "Epoch 38/100\n",
      "777/777 - 1s - 861us/step - loss: 0.0939\n",
      "Epoch 39/100\n",
      "777/777 - 1s - 860us/step - loss: 0.0937\n",
      "Epoch 40/100\n",
      "777/777 - 1s - 871us/step - loss: 0.0936\n",
      "Epoch 41/100\n",
      "777/777 - 1s - 865us/step - loss: 0.0938\n",
      "Epoch 42/100\n",
      "777/777 - 1s - 855us/step - loss: 0.0935\n",
      "Epoch 43/100\n",
      "777/777 - 1s - 858us/step - loss: 0.0935\n",
      "Epoch 44/100\n",
      "777/777 - 1s - 863us/step - loss: 0.0939\n",
      "Epoch 45/100\n",
      "777/777 - 1s - 859us/step - loss: 0.0937\n",
      "Epoch 46/100\n",
      "777/777 - 1s - 869us/step - loss: 0.0935\n",
      "Epoch 47/100\n",
      "777/777 - 1s - 887us/step - loss: 0.0937\n",
      "Epoch 48/100\n",
      "777/777 - 1s - 854us/step - loss: 0.0933\n",
      "Epoch 49/100\n",
      "777/777 - 1s - 867us/step - loss: 0.0934\n",
      "Epoch 50/100\n",
      "777/777 - 1s - 860us/step - loss: 0.0935\n",
      "Epoch 51/100\n",
      "777/777 - 1s - 863us/step - loss: 0.0938\n",
      "Epoch 52/100\n",
      "777/777 - 1s - 871us/step - loss: 0.0934\n",
      "Epoch 53/100\n",
      "777/777 - 1s - 869us/step - loss: 0.0936\n",
      "Epoch 54/100\n",
      "777/777 - 1s - 874us/step - loss: 0.0937\n",
      "Epoch 55/100\n",
      "777/777 - 1s - 873us/step - loss: 0.0937\n",
      "Epoch 56/100\n",
      "777/777 - 1s - 882us/step - loss: 0.0937\n",
      "Epoch 57/100\n",
      "777/777 - 1s - 869us/step - loss: 0.0938\n",
      "Epoch 58/100\n",
      "777/777 - 1s - 876us/step - loss: 0.0934\n",
      "Epoch 59/100\n",
      "777/777 - 1s - 910us/step - loss: 0.0938\n",
      "Epoch 60/100\n",
      "777/777 - 1s - 859us/step - loss: 0.0937\n",
      "Epoch 61/100\n",
      "777/777 - 1s - 879us/step - loss: 0.0937\n",
      "Epoch 62/100\n",
      "777/777 - 1s - 882us/step - loss: 0.0934\n",
      "Epoch 63/100\n",
      "777/777 - 1s - 863us/step - loss: 0.0933\n",
      "Epoch 64/100\n",
      "777/777 - 1s - 863us/step - loss: 0.0935\n",
      "Epoch 65/100\n",
      "777/777 - 1s - 859us/step - loss: 0.0933\n",
      "Epoch 66/100\n",
      "777/777 - 1s - 861us/step - loss: 0.0935\n",
      "Epoch 67/100\n",
      "777/777 - 1s - 866us/step - loss: 0.0934\n",
      "Epoch 68/100\n",
      "777/777 - 1s - 907us/step - loss: 0.0937\n",
      "Epoch 69/100\n",
      "777/777 - 1s - 874us/step - loss: 0.0932\n",
      "Epoch 70/100\n",
      "777/777 - 1s - 877us/step - loss: 0.0936\n",
      "Epoch 71/100\n",
      "777/777 - 1s - 889us/step - loss: 0.0934\n",
      "Epoch 72/100\n",
      "777/777 - 1s - 871us/step - loss: 0.0936\n",
      "Epoch 73/100\n",
      "777/777 - 1s - 871us/step - loss: 0.0934\n",
      "Epoch 74/100\n",
      "777/777 - 1s - 865us/step - loss: 0.0933\n",
      "Epoch 75/100\n",
      "777/777 - 1s - 869us/step - loss: 0.0927\n",
      "Epoch 76/100\n",
      "777/777 - 1s - 865us/step - loss: 0.0934\n",
      "Epoch 77/100\n",
      "777/777 - 1s - 860us/step - loss: 0.0935\n",
      "Epoch 78/100\n",
      "777/777 - 1s - 890us/step - loss: 0.0933\n",
      "Epoch 79/100\n",
      "777/777 - 1s - 869us/step - loss: 0.0933\n",
      "Epoch 80/100\n",
      "777/777 - 1s - 872us/step - loss: 0.0933\n",
      "Epoch 81/100\n",
      "777/777 - 1s - 878us/step - loss: 0.0927\n",
      "Epoch 82/100\n",
      "777/777 - 1s - 880us/step - loss: 0.0932\n",
      "Epoch 83/100\n",
      "777/777 - 1s - 893us/step - loss: 0.0935\n",
      "Epoch 84/100\n",
      "777/777 - 1s - 878us/step - loss: 0.0934\n",
      "Epoch 85/100\n",
      "777/777 - 1s - 864us/step - loss: 0.0931\n",
      "Epoch 86/100\n",
      "777/777 - 1s - 864us/step - loss: 0.0933\n",
      "Epoch 87/100\n",
      "777/777 - 1s - 868us/step - loss: 0.0934\n",
      "Epoch 88/100\n",
      "777/777 - 1s - 871us/step - loss: 0.0934\n",
      "Epoch 89/100\n",
      "777/777 - 1s - 861us/step - loss: 0.0934\n",
      "Epoch 90/100\n",
      "777/777 - 1s - 870us/step - loss: 0.0934\n",
      "Epoch 91/100\n",
      "777/777 - 1s - 860us/step - loss: 0.0932\n",
      "Epoch 92/100\n",
      "777/777 - 1s - 862us/step - loss: 0.0932\n",
      "Epoch 93/100\n",
      "777/777 - 1s - 944us/step - loss: 0.0934\n",
      "Epoch 94/100\n",
      "777/777 - 1s - 887us/step - loss: 0.0932\n",
      "Epoch 95/100\n",
      "777/777 - 1s - 880us/step - loss: 0.0931\n",
      "Epoch 96/100\n",
      "777/777 - 1s - 859us/step - loss: 0.0932\n",
      "Epoch 97/100\n",
      "777/777 - 1s - 867us/step - loss: 0.0934\n",
      "Epoch 98/100\n",
      "777/777 - 1s - 955us/step - loss: 0.0933\n",
      "Epoch 99/100\n",
      "777/777 - 1s - 946us/step - loss: 0.0931\n",
      "Epoch 100/100\n",
      "777/777 - 1s - 877us/step - loss: 0.0936\n"
     ]
    },
    {
     "data": {
      "text/plain": [
       "<keras.src.callbacks.history.History at 0x26e3c72e1a0>"
      ]
     },
     "execution_count": 6,
     "metadata": {},
     "output_type": "execute_result"
    }
   ],
   "source": [
    "from tensorflow.keras.models import Sequential\n",
    "from tensorflow.keras.layers import Dense\n",
    "from tensorflow.keras.layers import LSTM\n",
    "\n",
    "from keras.losses import mean_squared_error\n",
    "\n",
    "def root_mean_squared_error(y_true, y_pred):\n",
    "    return tf.sqrt(mean_squared_error(y_true, y_pred))\n",
    "# create and fit the LSTM network\n",
    "model = Sequential()\n",
    "model.add(LSTM(4, input_shape=(2, 3)))\n",
    "model.add(Dense(3))\n",
    "model.compile(loss=root_mean_squared_error, optimizer='adam')\n",
    "model.fit(trainX, trainY, epochs=100, batch_size=1, verbose=2)"
   ]
  },
  {
   "cell_type": "code",
   "execution_count": 7,
   "metadata": {},
   "outputs": [
    {
     "name": "stdout",
     "output_type": "stream",
     "text": [
      "\u001b[1m1/1\u001b[0m \u001b[32m━━━━━━━━━━━━━━━━━━━━\u001b[0m\u001b[37m\u001b[0m \u001b[1m0s\u001b[0m 127ms/step\n",
      "Test Score: 7.21 RMSE\n"
     ]
    }
   ],
   "source": [
    "from sklearn.metrics import mean_squared_error\n",
    "# make predictions\n",
    "testPredict = model.predict(testX)\n",
    "# invert predictions\n",
    "testPredict = scaler.inverse_transform(testPredict)\n",
    "testY_ = scaler.inverse_transform(testY)\n",
    "# print(testPredict[:,0], testY_[0])\n",
    "# calculate root mean squared error\n",
    "testScore = np.sqrt(mean_squared_error(testY_, testPredict))\n",
    "print('Test Score: %.2f RMSE' % (testScore))"
   ]
  },
  {
   "cell_type": "code",
   "execution_count": 8,
   "metadata": {},
   "outputs": [
    {
     "name": "stdout",
     "output_type": "stream",
     "text": [
      "792\n"
     ]
    }
   ],
   "source": [
    "print(len(dataset))"
   ]
  },
  {
   "cell_type": "code",
   "execution_count": 9,
   "metadata": {},
   "outputs": [
    {
     "data": {
      "image/png": "[encoded data removed]",
      "text/plain": [
       "<Figure size 640x480 with 1 Axes>"
      ]
     },
     "metadata": {},
     "output_type": "display_data"
    }
   ],
   "source": [
    "import matplotlib.pyplot as plt\n",
    "# (x,3)\n",
    "testPredictPlot = np.empty([dataset.shape[0]])\n",
    "testPredictPlot[:] = np.nan\n",
    "testPredictPlot[len(trainX)+(look_back*2)+1:len(dataset)-1] = testPredict[:,0].reshape(-1)\n",
    "plt.plot(scaler.inverse_transform(dataset)[:,0].reshape(-1))\n",
    "plt.plot(testPredictPlot, color = 'green')\n",
    "plt.show()"
   ]
  },
  {
   "cell_type": "code",
   "execution_count": 10,
   "metadata": {},
   "outputs": [],
   "source": [
    "model.save(\"../model/LSTM_3_3.keras\")"
   ]
  }
 ],
 "metadata": {
  "kernelspec": {
   "display_name": "venv",
   "language": "python",
   "name": "python3"
  },
  "language_info": {
   "codemirror_mode": {
    "name": "ipython",
    "version": 3
   },
   "file_extension": ".py",
   "mimetype": "text/x-python",
   "name": "python",
   "nbconvert_exporter": "python",
   "pygments_lexer": "ipython3",
   "version": "3.10.10"
  }
 },
 "nbformat": 4,
 "nbformat_minor": 2
}
