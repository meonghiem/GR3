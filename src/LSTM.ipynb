{
 "cells": [
  {
   "cell_type": "code",
   "execution_count": 1,
   "metadata": {},
   "outputs": [
    {
     "data": {
      "text/plain": [
       "[]"
      ]
     },
     "execution_count": 1,
     "metadata": {},
     "output_type": "execute_result"
    }
   ],
   "source": [
    "import tensorflow as tf\n",
    "tf.config.list_physical_devices('GPU')\n"
   ]
  },
  {
   "cell_type": "code",
   "execution_count": 11,
   "metadata": {},
   "outputs": [],
   "source": [
    "from pandas import read_csv\n",
    "#Load data set\n",
    "series_influ_A_df = read_csv('../temp_data/influA_vietnam.csv', usecols=[1,2,3], engine='python')\n",
    "# series_influ_A_df = series_influ_A_df[\"Influenza A - All types of surveillance\"]\n",
    "series_influ_A_df = series_influ_A_df.dropna()\n",
    "series_influ_A_df = series_influ_A_df.astype('float32')\n",
    "series_influ_A_df = series_influ_A_df.values\n",
    "# normalize the dataset\n",
    "from sklearn.preprocessing import MinMaxScaler\n",
    "scaler = MinMaxScaler(feature_range=(0, 1))\n",
    "dataset = scaler.fit_transform(series_influ_A_df)\n",
    "# Create Training and Test\n",
    "train = dataset[:735, :]\n",
    "test = dataset[735:, :]"
   ]
  },
  {
   "cell_type": "code",
   "execution_count": 2,
   "metadata": {},
   "outputs": [],
   "source": [
    "import numpy as np\n",
    "# convert an array of values into a dataset matrix\n",
    "def create_dataset(dataset, look_back=1):\n",
    "    dataX, dataY = [], []\n",
    "    for i in range(len(dataset)-look_back-1):\n",
    "        a = dataset[i:(i+look_back)]\n",
    "        dataX.append(a)\n",
    "        dataY.append(dataset[i + look_back])\n",
    "    return np.array(dataX), np.array(dataY)"
   ]
  },
  {
   "cell_type": "code",
   "execution_count": 3,
   "metadata": {},
   "outputs": [],
   "source": [
    "look_back = 2\n",
    "trainX, trainY = create_dataset(train, look_back)\n",
    "testX, testY = create_dataset(test, look_back)"
   ]
  },
  {
   "cell_type": "code",
   "execution_count": 5,
   "metadata": {},
   "outputs": [
    {
     "name": "stdout",
     "output_type": "stream",
     "text": [
      "[[0.08536585 0.38735178 0.6863711 ]\n",
      " [0.         0.21739128 0.2906404 ]]\n"
     ]
    }
   ],
   "source": [
    "print(trainX[0])\n",
    "# reshape input to be [samples, time steps, features]\n",
    "# trainX = np.reshape(trainX, (trainX.shape[0], 1, trainX.shape[1]))\n",
    "# testX = np.reshape(testX, (testX.shape[0], 1, testX.shape[1]))\n"
   ]
  },
  {
   "cell_type": "code",
   "execution_count": 4,
   "metadata": {},
   "outputs": [
    {
     "name": "stdout",
     "output_type": "stream",
     "text": [
      "Epoch 1/100\n"
     ]
    },
    {
     "name": "stderr",
     "output_type": "stream",
     "text": [
      "d:\\my_study\\gr3\\DATN\\venv\\lib\\site-packages\\keras\\src\\layers\\rnn\\rnn.py:204: UserWarning: Do not pass an `input_shape`/`input_dim` argument to a layer. When using Sequential models, prefer using an `Input(shape)` object as the first layer in the model instead.\n",
      "  super().__init__(**kwargs)\n"
     ]
    },
    {
     "name": "stdout",
     "output_type": "stream",
     "text": [
      "732/732 - 2s - 3ms/step - loss: 0.0674\n",
      "Epoch 2/100\n",
      "732/732 - 1s - 1ms/step - loss: 0.0284\n",
      "Epoch 3/100\n",
      "732/732 - 1s - 1ms/step - loss: 0.0248\n",
      "Epoch 4/100\n",
      "732/732 - 1s - 1ms/step - loss: 0.0216\n",
      "Epoch 5/100\n",
      "732/732 - 1s - 1ms/step - loss: 0.0192\n",
      "Epoch 6/100\n",
      "732/732 - 1s - 1ms/step - loss: 0.0179\n",
      "Epoch 7/100\n",
      "732/732 - 1s - 1ms/step - loss: 0.0170\n",
      "Epoch 8/100\n",
      "732/732 - 1s - 1ms/step - loss: 0.0166\n",
      "Epoch 9/100\n",
      "732/732 - 1s - 1ms/step - loss: 0.0163\n",
      "Epoch 10/100\n",
      "732/732 - 1s - 1ms/step - loss: 0.0160\n",
      "Epoch 11/100\n",
      "732/732 - 1s - 1ms/step - loss: 0.0159\n",
      "Epoch 12/100\n",
      "732/732 - 1s - 1ms/step - loss: 0.0158\n",
      "Epoch 13/100\n",
      "732/732 - 1s - 1ms/step - loss: 0.0158\n",
      "Epoch 14/100\n",
      "732/732 - 1s - 1ms/step - loss: 0.0157\n",
      "Epoch 15/100\n",
      "732/732 - 1s - 1ms/step - loss: 0.0158\n",
      "Epoch 16/100\n",
      "732/732 - 1s - 1ms/step - loss: 0.0157\n",
      "Epoch 17/100\n",
      "732/732 - 1s - 1ms/step - loss: 0.0157\n",
      "Epoch 18/100\n",
      "732/732 - 1s - 1ms/step - loss: 0.0157\n",
      "Epoch 19/100\n",
      "732/732 - 1s - 1ms/step - loss: 0.0156\n",
      "Epoch 20/100\n",
      "732/732 - 1s - 1ms/step - loss: 0.0156\n",
      "Epoch 21/100\n",
      "732/732 - 1s - 1ms/step - loss: 0.0158\n",
      "Epoch 22/100\n",
      "732/732 - 1s - 1ms/step - loss: 0.0157\n",
      "Epoch 23/100\n",
      "732/732 - 1s - 1ms/step - loss: 0.0157\n",
      "Epoch 24/100\n",
      "732/732 - 1s - 1ms/step - loss: 0.0157\n",
      "Epoch 25/100\n",
      "732/732 - 1s - 1ms/step - loss: 0.0156\n",
      "Epoch 26/100\n",
      "732/732 - 1s - 1ms/step - loss: 0.0157\n",
      "Epoch 27/100\n",
      "732/732 - 1s - 1ms/step - loss: 0.0157\n",
      "Epoch 28/100\n",
      "732/732 - 1s - 1ms/step - loss: 0.0156\n",
      "Epoch 29/100\n",
      "732/732 - 1s - 1ms/step - loss: 0.0156\n",
      "Epoch 30/100\n",
      "732/732 - 1s - 1ms/step - loss: 0.0156\n",
      "Epoch 31/100\n",
      "732/732 - 1s - 1ms/step - loss: 0.0156\n",
      "Epoch 32/100\n",
      "732/732 - 1s - 1ms/step - loss: 0.0156\n",
      "Epoch 33/100\n",
      "732/732 - 1s - 1ms/step - loss: 0.0157\n",
      "Epoch 34/100\n",
      "732/732 - 1s - 1ms/step - loss: 0.0157\n",
      "Epoch 35/100\n",
      "732/732 - 1s - 1ms/step - loss: 0.0156\n",
      "Epoch 36/100\n",
      "732/732 - 1s - 1ms/step - loss: 0.0157\n",
      "Epoch 37/100\n",
      "732/732 - 1s - 1ms/step - loss: 0.0156\n",
      "Epoch 38/100\n",
      "732/732 - 1s - 1ms/step - loss: 0.0157\n",
      "Epoch 39/100\n",
      "732/732 - 1s - 1ms/step - loss: 0.0156\n",
      "Epoch 40/100\n",
      "732/732 - 1s - 1ms/step - loss: 0.0156\n",
      "Epoch 41/100\n",
      "732/732 - 1s - 1ms/step - loss: 0.0156\n",
      "Epoch 42/100\n",
      "732/732 - 1s - 1ms/step - loss: 0.0157\n",
      "Epoch 43/100\n",
      "732/732 - 1s - 1ms/step - loss: 0.0156\n",
      "Epoch 44/100\n",
      "732/732 - 1s - 1ms/step - loss: 0.0156\n",
      "Epoch 45/100\n",
      "732/732 - 1s - 1ms/step - loss: 0.0156\n",
      "Epoch 46/100\n",
      "732/732 - 1s - 1ms/step - loss: 0.0156\n",
      "Epoch 47/100\n",
      "732/732 - 1s - 1ms/step - loss: 0.0156\n",
      "Epoch 48/100\n",
      "732/732 - 1s - 1ms/step - loss: 0.0155\n",
      "Epoch 49/100\n",
      "732/732 - 1s - 1ms/step - loss: 0.0156\n",
      "Epoch 50/100\n",
      "732/732 - 1s - 1ms/step - loss: 0.0156\n",
      "Epoch 51/100\n",
      "732/732 - 1s - 1ms/step - loss: 0.0156\n",
      "Epoch 52/100\n",
      "732/732 - 1s - 1ms/step - loss: 0.0156\n",
      "Epoch 53/100\n",
      "732/732 - 1s - 1ms/step - loss: 0.0155\n",
      "Epoch 54/100\n",
      "732/732 - 1s - 1ms/step - loss: 0.0155\n",
      "Epoch 55/100\n",
      "732/732 - 1s - 1ms/step - loss: 0.0156\n",
      "Epoch 56/100\n",
      "732/732 - 1s - 1ms/step - loss: 0.0155\n",
      "Epoch 57/100\n",
      "732/732 - 1s - 1ms/step - loss: 0.0156\n",
      "Epoch 58/100\n",
      "732/732 - 1s - 1ms/step - loss: 0.0155\n",
      "Epoch 59/100\n",
      "732/732 - 1s - 1ms/step - loss: 0.0156\n",
      "Epoch 60/100\n",
      "732/732 - 1s - 1ms/step - loss: 0.0156\n",
      "Epoch 61/100\n",
      "732/732 - 1s - 1ms/step - loss: 0.0156\n",
      "Epoch 62/100\n",
      "732/732 - 1s - 1ms/step - loss: 0.0156\n",
      "Epoch 63/100\n",
      "732/732 - 1s - 1ms/step - loss: 0.0156\n",
      "Epoch 64/100\n",
      "732/732 - 1s - 1ms/step - loss: 0.0156\n",
      "Epoch 65/100\n",
      "732/732 - 1s - 1ms/step - loss: 0.0156\n",
      "Epoch 66/100\n",
      "732/732 - 1s - 1ms/step - loss: 0.0155\n",
      "Epoch 67/100\n",
      "732/732 - 1s - 2ms/step - loss: 0.0156\n",
      "Epoch 68/100\n",
      "732/732 - 1s - 1ms/step - loss: 0.0154\n",
      "Epoch 69/100\n",
      "732/732 - 1s - 1ms/step - loss: 0.0155\n",
      "Epoch 70/100\n",
      "732/732 - 1s - 1ms/step - loss: 0.0155\n",
      "Epoch 71/100\n",
      "732/732 - 1s - 1ms/step - loss: 0.0155\n",
      "Epoch 72/100\n",
      "732/732 - 1s - 1ms/step - loss: 0.0155\n",
      "Epoch 73/100\n",
      "732/732 - 1s - 1ms/step - loss: 0.0155\n",
      "Epoch 74/100\n",
      "732/732 - 1s - 1ms/step - loss: 0.0155\n",
      "Epoch 75/100\n",
      "732/732 - 1s - 1ms/step - loss: 0.0155\n",
      "Epoch 76/100\n",
      "732/732 - 1s - 1ms/step - loss: 0.0155\n",
      "Epoch 77/100\n",
      "732/732 - 1s - 1ms/step - loss: 0.0155\n",
      "Epoch 78/100\n",
      "732/732 - 1s - 1ms/step - loss: 0.0155\n",
      "Epoch 79/100\n",
      "732/732 - 1s - 1ms/step - loss: 0.0155\n",
      "Epoch 80/100\n",
      "732/732 - 1s - 1ms/step - loss: 0.0155\n",
      "Epoch 81/100\n",
      "732/732 - 1s - 1ms/step - loss: 0.0155\n",
      "Epoch 82/100\n",
      "732/732 - 1s - 1ms/step - loss: 0.0155\n",
      "Epoch 83/100\n",
      "732/732 - 1s - 1ms/step - loss: 0.0155\n",
      "Epoch 84/100\n",
      "732/732 - 1s - 1ms/step - loss: 0.0155\n",
      "Epoch 85/100\n",
      "732/732 - 1s - 1ms/step - loss: 0.0155\n",
      "Epoch 86/100\n",
      "732/732 - 1s - 1ms/step - loss: 0.0155\n",
      "Epoch 87/100\n",
      "732/732 - 1s - 1ms/step - loss: 0.0155\n",
      "Epoch 88/100\n",
      "732/732 - 1s - 1ms/step - loss: 0.0155\n",
      "Epoch 89/100\n",
      "732/732 - 1s - 1ms/step - loss: 0.0154\n",
      "Epoch 90/100\n",
      "732/732 - 1s - 1ms/step - loss: 0.0154\n",
      "Epoch 91/100\n",
      "732/732 - 1s - 1ms/step - loss: 0.0155\n",
      "Epoch 92/100\n",
      "732/732 - 1s - 1ms/step - loss: 0.0154\n",
      "Epoch 93/100\n",
      "732/732 - 1s - 1ms/step - loss: 0.0155\n",
      "Epoch 94/100\n",
      "732/732 - 1s - 1ms/step - loss: 0.0155\n",
      "Epoch 95/100\n",
      "732/732 - 1s - 1ms/step - loss: 0.0154\n",
      "Epoch 96/100\n",
      "732/732 - 1s - 1ms/step - loss: 0.0155\n",
      "Epoch 97/100\n",
      "732/732 - 1s - 1ms/step - loss: 0.0155\n",
      "Epoch 98/100\n",
      "732/732 - 1s - 1ms/step - loss: 0.0154\n",
      "Epoch 99/100\n",
      "732/732 - 1s - 1ms/step - loss: 0.0154\n",
      "Epoch 100/100\n",
      "732/732 - 1s - 1ms/step - loss: 0.0155\n"
     ]
    },
    {
     "data": {
      "text/plain": [
       "<keras.src.callbacks.history.History at 0x2668b068490>"
      ]
     },
     "execution_count": 4,
     "metadata": {},
     "output_type": "execute_result"
    }
   ],
   "source": [
    "from tensorflow.keras.models import Sequential\n",
    "from tensorflow.keras.layers import Dense\n",
    "from tensorflow.keras.layers import LSTM\n",
    "# create and fit the LSTM network\n",
    "model = Sequential()\n",
    "model.add(LSTM(4, input_shape=(2, 3)))\n",
    "model.add(Dense(3))\n",
    "model.compile(loss='mean_squared_error', optimizer='adam')\n",
    "model.fit(trainX, trainY, epochs=100, batch_size=1, verbose=2)"
   ]
  },
  {
   "cell_type": "code",
   "execution_count": 5,
   "metadata": {},
   "outputs": [
    {
     "name": "stdout",
     "output_type": "stream",
     "text": [
      "\u001b[1m2/2\u001b[0m \u001b[32m━━━━━━━━━━━━━━━━━━━━\u001b[0m\u001b[37m\u001b[0m \u001b[1m0s\u001b[0m 127ms/step\n",
      "Test Score: 6.92 RMSE\n"
     ]
    }
   ],
   "source": [
    "from sklearn.metrics import mean_squared_error\n",
    "# make predictions\n",
    "testPredict = model.predict(testX)\n",
    "# invert predictions\n",
    "testPredict = scaler.inverse_transform(testPredict)\n",
    "testY_ = scaler.inverse_transform(testY)\n",
    "# print(testPredict[:,0], testY_[0])\n",
    "# calculate root mean squared error\n",
    "testScore = np.sqrt(mean_squared_error(testY_, testPredict))\n",
    "print('Test Score: %.2f RMSE' % (testScore))"
   ]
  },
  {
   "cell_type": "code",
   "execution_count": 7,
   "metadata": {},
   "outputs": [
    {
     "name": "stdout",
     "output_type": "stream",
     "text": [
      "792\n"
     ]
    }
   ],
   "source": [
    "print(len(dataset))"
   ]
  },
  {
   "cell_type": "code",
   "execution_count": 24,
   "metadata": {},
   "outputs": [
    {
     "data": {
      "image/png": "[encoded data removed]",
      "text/plain": [
       "<Figure size 640x480 with 1 Axes>"
      ]
     },
     "metadata": {},
     "output_type": "display_data"
    }
   ],
   "source": [
    "import matplotlib.pyplot as plt\n",
    "# (x,3)\n",
    "testPredictPlot = np.empty([dataset.shape[0]])\n",
    "testPredictPlot[:] = np.nan\n",
    "testPredictPlot[len(trainX)+(look_back*2)+1:len(dataset)-1] = testPredict[:,0].reshape(-1)\n",
    "plt.plot(scaler.inverse_transform(dataset)[:,0].reshape(-1))\n",
    "plt.plot(testPredictPlot, color = 'green')\n",
    "plt.show()"
   ]
  },
  {
   "cell_type": "code",
   "execution_count": 23,
   "metadata": {},
   "outputs": [],
   "source": [
    "model.save(\"../model/LSTM_3_3.keras\")"
   ]
  }
 ],
 "metadata": {
  "kernelspec": {
   "display_name": "venv",
   "language": "python",
   "name": "python3"
  },
  "language_info": {
   "codemirror_mode": {
    "name": "ipython",
    "version": 3
   },
   "file_extension": ".py",
   "mimetype": "text/x-python",
   "name": "python",
   "nbconvert_exporter": "python",
   "pygments_lexer": "ipython3",
   "version": "3.10.10"
  }
 },
 "nbformat": 4,
 "nbformat_minor": 2
}
