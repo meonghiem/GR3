{
 "cells": [
  {
   "cell_type": "code",
   "execution_count": 2,
   "metadata": {},
   "outputs": [],
   "source": [
    "import pandas as pd\n",
    "df_2009 = pd.read_csv('./VietNam 2009-01-01 to 2011-01-01.csv')\n",
    "df_2011 = pd.read_csv('./VietNam 2011-01-01 to 2013-01-01.csv')\n",
    "df_2011 = df_2011[df_2011[\"datetime\"] > '2011-01-01']\n",
    "\n",
    "df_2013 = pd.read_csv('./VietNam 2013-01-01 to 2015-01-01.csv')\n",
    "df_2013 = df_2013[df_2013[\"datetime\"] > '2013-01-01']\n",
    "\n",
    "df_2015 = pd.read_csv('./VietNam 2015-01-01 to 2017-01-01.csv')\n",
    "df_2015 = df_2015[df_2015[\"datetime\"] > '2015-01-01']\n",
    "\n",
    "df_2017 = pd.read_csv('./VietNam 2017-01-01 to 2019-01-01.csv')\n",
    "df_2017 = df_2017[df_2017[\"datetime\"] > '2017-01-01']\n",
    "\n",
    "df_2019 = pd.read_csv('./VietNam 2019-01-01 to 2021-01-01.csv')\n",
    "df_2019 = df_2019[df_2019[\"datetime\"] > '2019-01-01']\n",
    "\n",
    "df_2021 = pd.read_csv('./VietNam 2021-01-01 to 2023-01-01.csv')\n",
    "df_2021 = df_2021[df_2021[\"datetime\"] > '2021-01-01']\n",
    "\n",
    "df_2023 = pd.read_csv('./VietNam 2023-01-01 to 2024-05-19.csv')\n",
    "df_2023 = df_2023[df_2023[\"datetime\"] > '2023-01-01']\n"
   ]
  },
  {
   "cell_type": "code",
   "execution_count": 3,
   "metadata": {},
   "outputs": [],
   "source": [
    "final_df = pd.concat([df_2009,df_2011,df_2013,df_2015,df_2017,df_2019,df_2021, df_2023], ignore_index=True, sort=False)"
   ]
  },
  {
   "cell_type": "code",
   "execution_count": 5,
   "metadata": {},
   "outputs": [],
   "source": [
    "final_df.to_csv(\"temp.csv\", index=0)"
   ]
  }
 ],
 "metadata": {
  "kernelspec": {
   "display_name": "venv",
   "language": "python",
   "name": "python3"
  },
  "language_info": {
   "codemirror_mode": {
    "name": "ipython",
    "version": 3
   },
   "file_extension": ".py",
   "mimetype": "text/x-python",
   "name": "python",
   "nbconvert_exporter": "python",
   "pygments_lexer": "ipython3",
   "version": "3.10.10"
  }
 },
 "nbformat": 4,
 "nbformat_minor": 2
}
