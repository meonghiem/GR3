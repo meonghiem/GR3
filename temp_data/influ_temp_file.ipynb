{
 "cells": [
  {
   "cell_type": "code",
   "execution_count": 26,
   "metadata": {},
   "outputs": [],
   "source": [
    "import pandas as pd\n",
    "\n",
    "temp_df = pd.read_csv(\"./temp.csv\")\n",
    "temp_df = temp_df[temp_df[\"datetime\"] >= \"2009-01-05\"]"
   ]
  },
  {
   "cell_type": "code",
   "execution_count": 27,
   "metadata": {},
   "outputs": [],
   "source": [
    "weekly_average = pd.DataFrame()\n",
    "temp_df['datetime'] = pd.to_datetime(temp_df['datetime'])\n",
    "temp_df.set_index('datetime', inplace=True)\n",
    "weekly_average['temp'] = temp_df['temp'].resample('7D').mean()\n",
    "weekly_average['humidity'] = temp_df['humidity'].resample('7D').mean()\n",
    "weekly_average.head()\n",
    "\n",
    "weekly_average.to_csv(\"weekly_temp_average.csv\")"
   ]
  },
  {
   "cell_type": "code",
   "execution_count": 1,
   "metadata": {},
   "outputs": [],
   "source": [
    "# join_df = influ_df.join(temp_df, lsuffix='Day', rsuffix='datetime', how='left')\n",
    "import pandas as pd\n",
    "influ_df = pd.read_csv(\"../data/singapore_flu_A_month.csv\")\n",
    "temp_df = pd.read_csv(\"./singapore_month_temp.csv\")\n",
    "join_df = pd.merge(influ_df, temp_df, left_on='Month', right_on='Month')\n",
    "join_df = join_df[['Month', 'Influenza A - All types of surveillance', 'temp','humidity', 'dew', 'precipcover','tempmax', 'tempmin','windspeed']]\n",
    "join_df.to_csv('influA_singapore_temp_month.csv', index=0)"
   ]
  },
  {
   "cell_type": "code",
   "execution_count": 19,
   "metadata": {},
   "outputs": [],
   "source": [
    "join_df.rename(columns = {'Influenza A - All types of surveillance':'influ_A'}, inplace = True) "
   ]
  }
 ],
 "metadata": {
  "kernelspec": {
   "display_name": "venv",
   "language": "python",
   "name": "python3"
  },
  "language_info": {
   "codemirror_mode": {
    "name": "ipython",
    "version": 3
   },
   "file_extension": ".py",
   "mimetype": "text/x-python",
   "name": "python",
   "nbconvert_exporter": "python",
   "pygments_lexer": "ipython3",
   "version": "3.10.10"
  }
 },
 "nbformat": 4,
 "nbformat_minor": 2
}
