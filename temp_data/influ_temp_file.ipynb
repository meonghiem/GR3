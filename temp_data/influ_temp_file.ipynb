{
 "cells": [
  {
   "cell_type": "code",
   "execution_count": 20,
   "metadata": {},
   "outputs": [],
   "source": [
    "import pandas as pd\n",
    "influ_df = pd.read_csv(\"../data/vietnam_flu_A.csv\")\n",
    "temp_df = pd.read_csv(\"./temp.csv\")\n",
    "temp_df = temp_df[temp_df[\"datetime\"] >= \"2009-01-05\"]"
   ]
  },
  {
   "cell_type": "code",
   "execution_count": 21,
   "metadata": {},
   "outputs": [],
   "source": [
    "# join_df = influ_df.join(temp_df, lsuffix='Day', rsuffix='datetime', how='left')\n",
    "join_df = pd.merge(influ_df, temp_df, left_on='Day', right_on='datetime')\n",
    "join_df = join_df[['Day', 'Influenza A - All types of surveillance', 'temp','humidity']]\n",
    "join_df.to_csv('influA_vietnam.csv', index=0)"
   ]
  },
  {
   "cell_type": "code",
   "execution_count": 19,
   "metadata": {},
   "outputs": [],
   "source": [
    "join_df.rename(columns = {'Influenza A - All types of surveillance':'influ_A'}, inplace = True) "
   ]
  }
 ],
 "metadata": {
  "kernelspec": {
   "display_name": "venv",
   "language": "python",
   "name": "python3"
  },
  "language_info": {
   "codemirror_mode": {
    "name": "ipython",
    "version": 3
   },
   "file_extension": ".py",
   "mimetype": "text/x-python",
   "name": "python",
   "nbconvert_exporter": "python",
   "pygments_lexer": "ipython3",
   "version": "3.8.10"
  }
 },
 "nbformat": 4,
 "nbformat_minor": 2
}
