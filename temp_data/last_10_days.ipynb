{
 "cells": [
  {
   "cell_type": "code",
   "execution_count": 50,
   "metadata": {},
   "outputs": [],
   "source": [
    "import pandas as pd\n",
    "\n",
    "temp_df = pd.read_csv(\"./temp.csv\")\n",
    "temp_df = temp_df[temp_df[\"datetime\"] >= \"2009-01-03\"]"
   ]
  },
  {
   "cell_type": "code",
   "execution_count": 51,
   "metadata": {},
   "outputs": [],
   "source": [
    "window_size = 10\n",
    "last_10_days_df = pd.DataFrame()\n",
    "last_10_days_df[\"datetime\"] = temp_df[\"datetime\"]\n",
    "last_10_days_df[\"temp\"] = temp_df[\"temp\"]\n",
    "last_10_days_df[\"dew\"] = temp_df[\"dew\"]\n",
    "last_10_days_df[\"humidity\"] = temp_df[\"humidity\"]\n",
    "last_10_days_df['datetime'] = pd.to_datetime(last_10_days_df['datetime'])\n",
    "last_10_days_df.set_index('datetime', inplace=True)\n",
    "last_10_days_df['temp'] = last_10_days_df['temp'].rolling(window=window_size).mean()\n",
    "last_10_days_df['humidity'] = last_10_days_df['humidity'].rolling(window=window_size).mean()\n",
    "# last_10_days_df = last_10_days_df.resample('7D').asfreq()"
   ]
  },
  {
   "cell_type": "code",
   "execution_count": 52,
   "metadata": {},
   "outputs": [],
   "source": [
    "last_10_days_df= last_10_days_df.reset_index()\n",
    "last_10_days_df = last_10_days_df[last_10_days_df[\"datetime\"] >= \"2009-01-12\"]\n",
    "last_10_days_df = last_10_days_df.set_index('datetime').resample('7D').asfreq()\n",
    "last_10_days_df.to_csv(\"last_10_days.csv\")"
   ]
  },
  {
   "cell_type": "code",
   "execution_count": 53,
   "metadata": {},
   "outputs": [
    {
     "data": {
      "text/plain": [
       "name                   0\n",
       "datetime               0\n",
       "tempmax                0\n",
       "tempmin                0\n",
       "temp                   0\n",
       "feelslikemax           0\n",
       "feelslikemin           0\n",
       "feelslike              0\n",
       "dew                    0\n",
       "humidity               0\n",
       "precip                 3\n",
       "precipprob             0\n",
       "precipcover            0\n",
       "preciptype          1892\n",
       "snow                2189\n",
       "snowdepth           2189\n",
       "windgust            2117\n",
       "windspeed              0\n",
       "winddir                0\n",
       "sealevelpressure       0\n",
       "cloudcover             0\n",
       "visibility             0\n",
       "solarradiation       363\n",
       "solarenergy          363\n",
       "uvindex              363\n",
       "severerisk          4755\n",
       "sunrise                0\n",
       "sunset                 0\n",
       "moonphase              0\n",
       "conditions             0\n",
       "description            0\n",
       "icon                   0\n",
       "stations              14\n",
       "dtype: int64"
      ]
     },
     "execution_count": 53,
     "metadata": {},
     "output_type": "execute_result"
    }
   ],
   "source": [
    "temp_df.isna().sum()"
   ]
  },
  {
   "cell_type": "code",
   "execution_count": null,
   "metadata": {},
   "outputs": [],
   "source": []
  }
 ],
 "metadata": {
  "kernelspec": {
   "display_name": "venv",
   "language": "python",
   "name": "python3"
  },
  "language_info": {
   "codemirror_mode": {
    "name": "ipython",
    "version": 3
   },
   "file_extension": ".py",
   "mimetype": "text/x-python",
   "name": "python",
   "nbconvert_exporter": "python",
   "pygments_lexer": "ipython3",
   "version": "3.10.10"
  }
 },
 "nbformat": 4,
 "nbformat_minor": 2
}
